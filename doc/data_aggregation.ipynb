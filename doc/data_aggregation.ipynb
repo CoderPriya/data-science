{
 "cells": [
  {
   "cell_type": "markdown",
   "metadata": {},
   "source": [
    "# Data Aggregation\n",
    "\n",
    "## HTML Parsing\n",
    "\n",
    "Read the HTML source from the exam schedule webpage:"
   ]
  },
  {
   "cell_type": "code",
   "execution_count": 43,
   "metadata": {
    "collapsed": false,
    "scrolled": true
   },
   "outputs": [
    {
     "name": "stdout",
     "output_type": "stream",
     "text": [
      "<!DOCTYPE html><html xmlns=\"http://www.w3.org/1999/xhtml\" lang=\"en\" xml:lang=\"en\">\n",
      "  \n"
     ]
    }
   ],
   "source": [
    "import requests\n",
    "\n",
    "url = 'http://registrar.emory.edu/faculty-staff/exam-schedule/spring-2018.html'\n",
    "r = requests.get(url)\n",
    "print(r.text[:85])"
   ]
  },
  {
   "cell_type": "markdown",
   "metadata": {},
   "source": [
    "Parse the source to retrieve the exam schedule:"
   ]
  },
  {
   "cell_type": "code",
   "execution_count": 18,
   "metadata": {
    "collapsed": false,
    "scrolled": true
   },
   "outputs": [
    {
     "name": "stdout",
     "output_type": "stream",
     "text": [
      " 08:00 MWF: ('Tuesday', '8-May', '11:30 A.M - 2:00 P.M')\n",
      "08:00 TTHF: ('Tuesday', '8-May', '3:00 P.M - 5:30 P.M')\n",
      "  08:30 MW: ('Tuesday', '8-May', '11:30 A.M - 2:00 P.M')\n",
      " 08:30 TTH: ('Tuesday', '8-May', '3:00 P.M - 5:30 P.M')\n",
      " 09:00 MWF: ('Tuesday', '8-May', '11:30 A.M - 2:00 P.M')\n",
      "09:00 TThF: ('Tuesday', '8-May', '3:00 P.M - 5:30 P.M')\n",
      " 10:00 MW : ('Monday', '7-May', '8:00 A.M - 10:30 A.M')\n",
      " 10:00 MWF: ('Monday', '7-May', '8:00 A.M - 10:30 A.M')\n",
      "10:00 TTH : ('Tuesday', '8-May', '8:00 A.M - 10:30 A.M')\n",
      "10:00 TThF: ('Tuesday', '8-May', '8:00 A.M - 10:30 A.M')\n",
      "11:00 MWFf: ('Friday', '4-May', '8:00 A.M - 10:30 A.M')\n",
      "11:00 TThF: ('Thursday', '3-May', '8:00 A.M - 10:30 A.M')\n",
      "  11:30 MW: ('Friday', '4-May', '8:00 A.M - 10:30 A.M')\n",
      " 11:30 TTh: ('Thursday', '3-May', '8:00 A.M - 10:30 A.M')\n",
      " 12:00 MWF: ('Friday', '4-May', '3:00 P.M - 5:30 P.M')\n",
      "12:00 TThF: ('Friday', '4-May', '3:00 P.M - 5:30 P.M')\n",
      "   1:00 MW: ('Thursday', '3-May', '3:00 P.M - 5:30 P.M')\n",
      "  1:00 MWF: ('Thursday', '3-May', '3:00 P.M - 5:30 P.M')\n",
      "  1:00 TTh: ('Wednesday', '9-May', '8:00 A.M - 10:30 A.M')\n",
      " 1:00 TThF: ('Wednesday', '9-May', '8:00 A.M - 10:30 A.M')\n",
      "  2:00 MWF: ('Wednesday', '9-May', '3:00 P.M - 5:30 P.M')\n",
      " 2:00 TThF: ('Monday', '7-May', '3:00 P.M - 5:30 P.M')\n",
      "  2:30 MW : ('Wednesday', '9-May', '3:00 P.M - 5:30 P.M')\n",
      "  2:30 TTh: ('Monday', '7-May', '3:00 P.M - 5:30 P.M')\n",
      "  3:00 MWF: ('Thursday', '3-May', '11:30 A.M - 2:00 P.M')\n",
      " 3:00 TTHF: ('Thursday', '3-May', '11:30 A.M - 2:00 P.M')\n",
      "   4:00 MW: ('Friday', '4-May', '11:30 A.M - 2:00 P.M')\n",
      "  4:00 MWF: ('Friday', '4-May', '11:30 A.M - 2:00 P.M')\n",
      " 4:00 TTH : ('Wednesday', '9-May', '11:30 A.M - 2:00 P.M')\n",
      " 4:00 TTHF: ('Wednesday', '9-May', '11:30 A.M - 2:00 P.M')\n",
      "  5:00 MWF: ('Monday', '7-May', '11:30 A.M - 2:00 P.M')\n",
      " 5:00 TThF: ('Tuesday', '8-May', '6:30 P.M - 9:00 P.M')\n",
      "   5:30 MW: ('Monday', '7-May', '11:30 A.M - 2:00 P.M')\n",
      "  5:30 TTh: ('Tuesday', '8-May', '6:30 P.M - 9:00 P.M')\n",
      "  Biology*: ('Wednesday', '9-May', '6:30 P.M - 9:00 P.M')\n",
      "Chemistry*: ('Thursday', '3-May', '6:30 P.M - 9:00 P.M')\n",
      " Language*: ('Monday', '7-May', '11:30 A.M - 2:00 P.M')\n",
      "     Math*: ('Tuesday', '8-May', '6:30 P.M - 9:00 P.M')\n",
      "  Physics*: ('Monday', '7-May', '6:30 P.M - 9:00 P.M')\n",
      "Quantitative Theory and Methods (QTM)*: ('Tuesday', '8-May', '6:30 P.M - 9:00 P.M')\n"
     ]
    }
   ],
   "source": [
    "from bs4 import BeautifulSoup\n",
    "\n",
    "html = BeautifulSoup(r.text, 'html.parser')\n",
    "tbody = html.find('tbody')\n",
    "exam_schedule = {}\n",
    "\n",
    "for tr in tbody.find_all('tr'):\n",
    "    tds  = tr.find_all('td')\n",
    "    meet = tds[0].string\n",
    "    day  = tds[1].string\n",
    "    date = tds[2].string\n",
    "    time = tds[3].string\n",
    "    exam_schedule[meet] = (day, date, time)\n",
    "\n",
    "for k, v in exam_schedule.items():\n",
    "    print('%10s: %s' % (k, str(v)))"
   ]
  },
  {
   "cell_type": "markdown",
   "metadata": {},
   "source": [
    "## Regular Expressions\n",
    "\n",
    "Retrieve rows selectively:"
   ]
  },
  {
   "cell_type": "code",
   "execution_count": 23,
   "metadata": {
    "collapsed": false
   },
   "outputs": [
    {
     "name": "stdout",
     "output_type": "stream",
     "text": [
      "Time: 8:00, Day: MW\n",
      "Time: 12:30, Day: TThF\n"
     ]
    }
   ],
   "source": [
    "import re\n",
    "\n",
    "TIME = re.compile('(\\d{1,2}:\\d\\d)\\s+([A-Za-z]+)')\n",
    "m = TIME.match('8:00 MW')\n",
    "print('Time: %s, Day: %s' % (m.group(1), m.group(2)))\n",
    "m = TIME.match('12:30 TThF')\n",
    "print('Time: %s, Day: %s' % (m.group(1), m.group(2)))"
   ]
  },
  {
   "cell_type": "code",
   "execution_count": 27,
   "metadata": {
    "collapsed": false
   },
   "outputs": [
    {
     "name": "stdout",
     "output_type": "stream",
     "text": [
      "None\n"
     ]
    }
   ],
   "source": [
    "m = TIME.match('Math*')\n",
    "print(m)"
   ]
  },
  {
   "cell_type": "code",
   "execution_count": null,
   "metadata": {
    "collapsed": true
   },
   "outputs": [],
   "source": []
  }
 ],
 "metadata": {
  "kernelspec": {
   "display_name": "Python 3",
   "language": "python",
   "name": "python3"
  },
  "language_info": {
   "codemirror_mode": {
    "name": "ipython",
    "version": 3
   },
   "file_extension": ".py",
   "mimetype": "text/x-python",
   "name": "python",
   "nbconvert_exporter": "python",
   "pygments_lexer": "ipython3",
   "version": "3.6.0"
  }
 },
 "nbformat": 4,
 "nbformat_minor": 2
}
