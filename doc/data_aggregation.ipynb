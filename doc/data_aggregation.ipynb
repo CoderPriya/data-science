{
 "cells": [
  {
   "cell_type": "markdown",
   "metadata": {
    "deletable": true,
    "editable": true
   },
   "source": [
    "# Data Aggregation\n",
    "\n",
    "## HTML Parsing\n",
    "\n",
    "Read the HTML source from the web:"
   ]
  },
  {
   "cell_type": "code",
   "execution_count": 1,
   "metadata": {
    "collapsed": false,
    "deletable": true,
    "editable": true,
    "scrolled": true
   },
   "outputs": [
    {
     "name": "stdout",
     "output_type": "stream",
     "text": [
      "<!DOCTYPE html><html xmlns=\"http://www.w3.org/1999/xhtml\" lang=\"en\" xml:lang=\"en\">\n",
      "    \n",
      "    <!-- Lev\n"
     ]
    }
   ],
   "source": [
    "import requests\n",
    "\n",
    "url = 'http://registrar.emory.edu/faculty-staff/exam-schedule/spring-2018.html'\n",
    "r = requests.get(url)\n",
    "print(r.text[:100])  # print(r.text) to retrieve the full source"
   ]
  },
  {
   "cell_type": "markdown",
   "metadata": {
    "deletable": true,
    "editable": true
   },
   "source": [
    "Parse the source to retrieve the exam schedule:"
   ]
  },
  {
   "cell_type": "code",
   "execution_count": 2,
   "metadata": {
    "collapsed": false,
    "deletable": true,
    "editable": true,
    "scrolled": true
   },
   "outputs": [
    {
     "name": "stdout",
     "output_type": "stream",
     "text": [
      " 08:00 MWF: ('Tuesday', '8-May', '11:30 A.M - 2:00 P.M')\n",
      "08:00 TTHF: ('Tuesday', '8-May', '3:00 P.M - 5:30 P.M')\n",
      "  08:30 MW: ('Tuesday', '8-May', '11:30 A.M - 2:00 P.M')\n",
      " 08:30 TTH: ('Tuesday', '8-May', '3:00 P.M - 5:30 P.M')\n",
      " 09:00 MWF: ('Tuesday', '8-May', '11:30 A.M - 2:00 P.M')\n",
      "09:00 TThF: ('Tuesday', '8-May', '3:00 P.M - 5:30 P.M')\n",
      "  10:00 MW: ('Monday', '7-May', '8:00 A.M - 10:30 A.M')\n",
      " 10:00 MWF: ('Monday', '7-May', '8:00 A.M - 10:30 A.M')\n",
      " 10:00 TTH: ('Tuesday', '8-May', '8:00 A.M - 10:30 A.M')\n",
      "10:00 TThF: ('Tuesday', '8-May', '8:00 A.M - 10:30 A.M')\n",
      " 11:00 MWF: ('Friday', '4-May', '8:00 A.M - 10:30 A.M')\n",
      "11:00 TThF: ('Thursday', '3-May', '8:00 A.M - 10:30 A.M')\n",
      "  11:30 MW: ('Friday', '4-May', '8:00 A.M - 10:30 A.M')\n",
      " 11:30 TTh: ('Thursday', '3-May', '8:00 A.M - 10:30 A.M')\n",
      " 12:00 MWF: ('Friday', '4-May', '3:00 P.M - 5:30 P.M')\n",
      "12:00 TThF: ('Friday', '4-May', '3:00 P.M - 5:30 P.M')\n",
      "   1:00 MW: ('Thursday', '3-May', '3:00 P.M - 5:30 P.M')\n",
      "  1:00 MWF: ('Thursday', '3-May', '3:00 P.M - 5:30 P.M')\n",
      "  1:00 TTh: ('Wednesday', '9-May', '8:00 A.M - 10:30 A.M')\n",
      " 1:00 TThF: ('Wednesday', '9-May', '8:00 A.M - 10:30 A.M')\n",
      "  2:00 MWF: ('Wednesday', '9-May', '3:00 P.M - 5:30 P.M')\n",
      " 2:00 TThF: ('Monday', '7-May', '3:00 P.M - 5:30 P.M')\n",
      "   2:30 MW: ('Wednesday', '9-May', '3:00 P.M - 5:30 P.M')\n",
      "  2:30 TTh: ('Monday', '7-May', '3:00 P.M - 5:30 P.M')\n",
      "  3:00 MWF: ('Thursday', '3-May', '11:30 A.M - 2:00 P.M')\n",
      " 3:00 TTHF: ('Thursday', '3-May', '11:30 A.M - 2:00 P.M')\n",
      "   4:00 MW: ('Friday', '4-May', '11:30 A.M - 2:00 P.M')\n",
      "  4:00 MWF: ('Friday', '4-May', '11:30 A.M - 2:00 P.M')\n",
      "  4:00 TTH: ('Wednesday', '9-May', '11:30 A.M - 2:00 P.M')\n",
      " 4:00 TTHF: ('Wednesday', '9-May', '11:30 A.M - 2:00 P.M')\n",
      "  5:00 MWF: ('Monday', '7-May', '11:30 A.M - 2:00 P.M')\n",
      " 5:00 TThF: ('Tuesday', '8-May', '6:30 P.M - 9:00 P.M')\n",
      "   5:30 MW: ('Monday', '7-May', '11:30 A.M - 2:00 P.M')\n",
      "  5:30 TTh: ('Tuesday', '8-May', '6:30 P.M - 9:00 P.M')\n",
      "Biology 142 Group*: ('Wednesday', '9-May', '6:30 P.M - 9:00 P.M')\n",
      "Biology Group 1*: ('Friday', '4-May', '6:30 P.M - 9:00 P.M')\n",
      "Chemistry*: ('Thursday', '3-May', '6:30 P.M - 9:00 P.M')\n",
      " Language*: ('Monday', '7-May', '11:30 A.M - 2:00 P.M')\n",
      "     Math*: ('Tuesday', '8-May', '6:30 P.M - 9:00 P.M')\n",
      "  Physics*: ('Monday', '7-May', '6:30 P.M - 9:00 P.M')\n",
      "Quantitative Theory and Methods (QTM)*: ('Tuesday', '8-May', '6:30 P.M - 9:00 P.M')\n"
     ]
    }
   ],
   "source": [
    "from bs4 import BeautifulSoup\n",
    "\n",
    "html = BeautifulSoup(r.text, 'html.parser')\n",
    "tbody = html.find('tbody')\n",
    "exam_schedule = {}\n",
    "\n",
    "for tr in tbody.find_all('tr'):\n",
    "    tds  = tr.find_all('td')\n",
    "    meet = tds[0].string.strip()\n",
    "    day  = tds[1].string.strip()\n",
    "    date = tds[2].string.strip()\n",
    "    time = tds[3].string.strip()\n",
    "    exam_schedule[meet] = (day, date, time)\n",
    "\n",
    "for k, v in exam_schedule.items():\n",
    "    print('%10s: %s' % (k, v))"
   ]
  },
  {
   "cell_type": "markdown",
   "metadata": {
    "deletable": true,
    "editable": true
   },
   "source": [
    "## Regular Expressions\n",
    "\n",
    "Retrieve only rows with time and day:"
   ]
  },
  {
   "cell_type": "code",
   "execution_count": 3,
   "metadata": {
    "collapsed": false,
    "deletable": true,
    "editable": true
   },
   "outputs": [
    {
     "name": "stdout",
     "output_type": "stream",
     "text": [
      "Time:  8:00, Day: MW\n",
      "Time: 12:30, Day: TThF\n"
     ]
    }
   ],
   "source": [
    "import re\n",
    "\n",
    "TIME_DAY = re.compile('(\\d{1,2}:\\d\\d)\\s+([A-Za-z]+)')\n",
    "\n",
    "m = TIME_DAY.match('8:00 MW')\n",
    "print('Time: %5s, Day: %s' % (m.group(1), m.group(2)))\n",
    "\n",
    "m = TIME_DAY.match('12:30 TThF')\n",
    "print('Time: %5s, Day: %s' % (m.group(1), m.group(2)))"
   ]
  },
  {
   "cell_type": "code",
   "execution_count": 4,
   "metadata": {
    "collapsed": false,
    "deletable": true,
    "editable": true
   },
   "outputs": [
    {
     "name": "stdout",
     "output_type": "stream",
     "text": [
      "None\n"
     ]
    }
   ],
   "source": [
    "m = TIME_DAY.match('Math*')\n",
    "print(m)"
   ]
  },
  {
   "cell_type": "markdown",
   "metadata": {
    "deletable": true,
    "editable": true
   },
   "source": [
    "Handle different ways of indicating time:"
   ]
  },
  {
   "cell_type": "code",
   "execution_count": 5,
   "metadata": {
    "collapsed": false,
    "deletable": true,
    "editable": true
   },
   "outputs": [
    {
     "name": "stdout",
     "output_type": "stream",
     "text": [
      "      8:00 -> ( 8, 00, None)\n",
      "     12:30 -> (12, 30, None)\n",
      "    2:30pm -> ( 2, 30, pm)\n",
      "   2:30 pm -> ( 2, 30, pm)\n",
      "    2:30PM -> ( 2, 30, PM)\n",
      "   2:30P.M -> ( 2, 30, P.M)\n",
      "  2:30P.M. -> ( 2, 30, P.M.)\n",
      "  2:30 PM. -> ( 2, 30, PM.)\n"
     ]
    }
   ],
   "source": [
    "TIME = re.compile('(\\d{1,2}):(\\d\\d)\\s*([AaPp]\\.?\\s*[Mm]\\.?)?')\n",
    "\n",
    "times = ['8:00', '12:30', '2:30pm', '2:30 pm', '2:30PM', '2:30P.M', '2:30P.M.', '2:30 PM.']\n",
    "\n",
    "for t in times:\n",
    "    m = TIME.match(t)\n",
    "    print('%10s -> (%2s, %2s, %s)' % (t, m.group(1), m.group(2), m.group(3)))"
   ]
  },
  {
   "cell_type": "markdown",
   "metadata": {
    "deletable": true,
    "editable": true
   },
   "source": [
    "## Normalization\n",
    "\n",
    "Convert the matched result to military time:"
   ]
  },
  {
   "cell_type": "code",
   "execution_count": 6,
   "metadata": {
    "collapsed": false,
    "deletable": true,
    "editable": true
   },
   "outputs": [],
   "source": [
    "def norm_time(hour, minute, period):\n",
    "    h = int(hour)\n",
    "    m = int(minute)\n",
    "    \n",
    "    if period:\n",
    "        p = period[0].upper()\n",
    "        if p == 'P': h += 12\n",
    "\n",
    "    return h * 100 + m"
   ]
  },
  {
   "cell_type": "code",
   "execution_count": 7,
   "metadata": {
    "collapsed": false,
    "deletable": true,
    "editable": true
   },
   "outputs": [
    {
     "name": "stdout",
     "output_type": "stream",
     "text": [
      "      8:00 ->  800\n",
      "     12:30 -> 1230\n",
      "    2:30pm -> 1430\n",
      "   2:30 pm -> 1430\n",
      "    2:30PM -> 1430\n",
      "   2:30P.M -> 1430\n",
      "  2:30P.M. -> 1430\n",
      "  2:30 PM. -> 1430\n"
     ]
    }
   ],
   "source": [
    "for t in times:\n",
    "    m = TIME.match(t)\n",
    "    n = norm_time(m.group(1), m.group(2), m.group(3))\n",
    "    print('%10s -> %4d' % (t, n))"
   ]
  },
  {
   "cell_type": "markdown",
   "metadata": {
    "deletable": true,
    "editable": true
   },
   "source": [
    "Convert days into a binary form:"
   ]
  },
  {
   "cell_type": "code",
   "execution_count": 8,
   "metadata": {
    "collapsed": false,
    "deletable": true,
    "editable": true
   },
   "outputs": [],
   "source": [
    "def norm_days(days):\n",
    "    DAYS = [('M', 0), ('TU', 1), ('W', 2), ('TH', 3), ('F', 4)]\n",
    "    days = days.upper()\n",
    "    b = ['0'] * 5\n",
    "\n",
    "    for d, i in DAYS:\n",
    "        if d in days:\n",
    "            b[i] = '1'\n",
    "            days = days.replace(d, '')\n",
    "\n",
    "    if 'T' in days:\n",
    "        b[1] = '1'\n",
    "        days = days.replace('T', '')\n",
    "\n",
    "    return int(''.join(b), 2)"
   ]
  },
  {
   "cell_type": "code",
   "execution_count": 9,
   "metadata": {
    "collapsed": false,
    "deletable": true,
    "editable": true
   },
   "outputs": [
    {
     "name": "stdout",
     "output_type": "stream",
     "text": [
      "    MWF 10101 21\n",
      "   TuTh  1010 10\n",
      "MTuWThF 11111 31\n",
      "   TThF  1011 11\n",
      "   MWFf 10101 21\n"
     ]
    }
   ],
   "source": [
    "days = ['MWF', 'TuTh', 'MTuWThF', 'TThF', 'MWFf']\n",
    "\n",
    "for d in days:\n",
    "    n = norm_days(d)\n",
    "    print('%7s %5s %2d' % (d, bin(n)[2:], n))"
   ]
  },
  {
   "cell_type": "code",
   "execution_count": 10,
   "metadata": {
    "collapsed": true,
    "deletable": true,
    "editable": true
   },
   "outputs": [],
   "source": [
    "## Exam Schedule Extraction"
   ]
  },
  {
   "cell_type": "code",
   "execution_count": 11,
   "metadata": {
    "collapsed": false,
    "deletable": true,
    "editable": true
   },
   "outputs": [],
   "source": [
    "def extract_exam_schedule(url):\n",
    "    r = requests.get(url)\n",
    "    html = BeautifulSoup(r.text, 'html.parser')\n",
    "    tbody = html.find('tbody')\n",
    "    schedule = {}\n",
    "\n",
    "    for tr in tbody.find_all('tr'):\n",
    "        tds = tr.find_all('td')\n",
    "        t = tds[0].string.split()\n",
    "\n",
    "        if len(t) == 2:\n",
    "            time = days = None\n",
    "            m = TIME.match(t[0])\n",
    "            if m: time = norm_time(m.group(1), m.group(2), m.group(3))\n",
    "            days = norm_days(t[1])\n",
    "\n",
    "            if time and days:\n",
    "                if time < 700: time += 1200\n",
    "                key  = (time, days)\n",
    "                day  = tds[1].string.strip()\n",
    "                date = tds[2].string.strip()\n",
    "                time = tds[3].string.strip()\n",
    "                schedule[key] = (day, date, time)\n",
    "\n",
    "    return schedule"
   ]
  },
  {
   "cell_type": "code",
   "execution_count": 12,
   "metadata": {
    "collapsed": false,
    "deletable": true,
    "editable": true
   },
   "outputs": [
    {
     "name": "stdout",
     "output_type": "stream",
     "text": [
      " (800, 21): ('Tuesday', '8-May', '11:30 A.M - 2:00 P.M')\n",
      " (800, 11): ('Tuesday', '8-May', '3:00 P.M - 5:30 P.M')\n",
      " (830, 20): ('Tuesday', '8-May', '11:30 A.M - 2:00 P.M')\n",
      " (830, 10): ('Tuesday', '8-May', '3:00 P.M - 5:30 P.M')\n",
      " (900, 21): ('Tuesday', '8-May', '11:30 A.M - 2:00 P.M')\n",
      " (900, 11): ('Tuesday', '8-May', '3:00 P.M - 5:30 P.M')\n",
      "(1000, 20): ('Monday', '7-May', '8:00 A.M - 10:30 A.M')\n",
      "(1000, 21): ('Monday', '7-May', '8:00 A.M - 10:30 A.M')\n",
      "(1000, 10): ('Tuesday', '8-May', '8:00 A.M - 10:30 A.M')\n",
      "(1000, 11): ('Tuesday', '8-May', '8:00 A.M - 10:30 A.M')\n",
      "(1100, 21): ('Friday', '4-May', '8:00 A.M - 10:30 A.M')\n",
      "(1100, 11): ('Thursday', '3-May', '8:00 A.M - 10:30 A.M')\n",
      "(1130, 20): ('Friday', '4-May', '8:00 A.M - 10:30 A.M')\n",
      "(1130, 10): ('Thursday', '3-May', '8:00 A.M - 10:30 A.M')\n",
      "(1200, 21): ('Friday', '4-May', '3:00 P.M - 5:30 P.M')\n",
      "(1200, 11): ('Friday', '4-May', '3:00 P.M - 5:30 P.M')\n",
      "(1300, 20): ('Thursday', '3-May', '3:00 P.M - 5:30 P.M')\n",
      "(1300, 21): ('Thursday', '3-May', '3:00 P.M - 5:30 P.M')\n",
      "(1300, 10): ('Wednesday', '9-May', '8:00 A.M - 10:30 A.M')\n",
      "(1300, 11): ('Wednesday', '9-May', '8:00 A.M - 10:30 A.M')\n",
      "(1400, 21): ('Wednesday', '9-May', '3:00 P.M - 5:30 P.M')\n",
      "(1400, 11): ('Monday', '7-May', '3:00 P.M - 5:30 P.M')\n",
      "(1430, 20): ('Wednesday', '9-May', '3:00 P.M - 5:30 P.M')\n",
      "(1430, 10): ('Monday', '7-May', '3:00 P.M - 5:30 P.M')\n",
      "(1500, 21): ('Thursday', '3-May', '11:30 A.M - 2:00 P.M')\n",
      "(1500, 11): ('Thursday', '3-May', '11:30 A.M - 2:00 P.M')\n",
      "(1600, 20): ('Friday', '4-May', '11:30 A.M - 2:00 P.M')\n",
      "(1600, 21): ('Friday', '4-May', '11:30 A.M - 2:00 P.M')\n",
      "(1600, 10): ('Wednesday', '9-May', '11:30 A.M - 2:00 P.M')\n",
      "(1600, 11): ('Wednesday', '9-May', '11:30 A.M - 2:00 P.M')\n",
      "(1700, 21): ('Monday', '7-May', '11:30 A.M - 2:00 P.M')\n",
      "(1700, 11): ('Tuesday', '8-May', '6:30 P.M - 9:00 P.M')\n",
      "(1730, 20): ('Monday', '7-May', '11:30 A.M - 2:00 P.M')\n",
      "(1730, 10): ('Tuesday', '8-May', '6:30 P.M - 9:00 P.M')\n"
     ]
    }
   ],
   "source": [
    "url = 'http://registrar.emory.edu/faculty-staff/exam-schedule/spring-2018.html'\n",
    "exam_schedule = extract_exam_schedule(url)\n",
    "for k, v in exam_schedule.items():\n",
    "    print('%10s: %s' % (k, v))"
   ]
  },
  {
   "cell_type": "markdown",
   "metadata": {
    "deletable": true,
    "editable": true
   },
   "source": [
    "## HTTP Session\n",
    "\n",
    "The full content of a dynamically generated  ",
    "webpage sometimes cannot be retrieved:"
   ]
  },
  {
   "cell_type": "code",
   "execution_count": 13,
   "metadata": {
    "collapsed": false,
    "deletable": true,
    "editable": true
   },
   "outputs": [
    {
     "name": "stdout",
     "output_type": "stream",
     "text": [
      "\n",
      "<!DOCTYPE html PUBLIC \"-//W3C//DTD XHTML 1.0 Transitional//EN\" \"http://www.w3.org/TR/xhtml1/DTD/xht\n"
     ]
    }
   ],
   "source": [
    "url = 'http://atlas.college.emory.edu/schedules/index.php?select=QTM'\n",
    "r = requests.get(url)\n",
    "print(r.text[:100])  # print(r.text) to retrieve the full source"
   ]
  },
  {
   "cell_type": "markdown",
   "metadata": {
    "deletable": true,
    "editable": true
   },
   "source": [
    "Open a session and retrieve the root page:"
   ]
  },
  {
   "cell_type": "code",
   "execution_count": 14,
   "metadata": {
    "collapsed": false,
    "deletable": true,
    "editable": true
   },
   "outputs": [
    {
     "name": "stdout",
     "output_type": "stream",
     "text": [
      "http://atlas.college.emory.edu/schedules/index.php?t=5181\n"
     ]
    }
   ],
   "source": [
    "url = 'http://atlas.college.emory.edu/schedules/index.php'\n",
    "s = requests.session()\n",
    "r = s.get(url, params={'t': '5181'})\n",
    "print(r.url)"
   ]
  },
  {
   "cell_type": "markdown",
   "metadata": {
    "deletable": true,
    "editable": true
   },
   "source": [
    "Retrieve the dynamic webpage:"
   ]
  },
  {
   "cell_type": "code",
   "execution_count": 15,
   "metadata": {
    "collapsed": false,
    "deletable": true,
    "editable": true,
    "scrolled": true
   },
   "outputs": [
    {
     "name": "stdout",
     "output_type": "stream",
     "text": [
      "\n",
      "<!DOCTYPE html PUBLIC \"-//W3C//DTD XHTML 1.0 Transitional//EN\" \"http://www.w3.org/TR/xhtml1/DTD/xht\n"
     ]
    }
   ],
   "source": [
    "r = s.get(url, params={'select': 'QTM'})\n",
    "print(r.text[:100])  # print(r.text) to retrieve the full source"
   ]
  },
  {
   "cell_type": "markdown",
   "metadata": {
    "deletable": true,
    "editable": true
   },
   "source": [
    "## Course Information Extraction\n",
    "\n",
    "Helper methods to extract course information:"
   ]
  },
  {
   "cell_type": "code",
   "execution_count": 16,
   "metadata": {
    "collapsed": false,
    "deletable": true,
    "editable": true
   },
   "outputs": [],
   "source": [
    "def course_title(section):\n",
    "    a = section.find('a')\n",
    "    t = a.text.split()\n",
    "    return t[0], ' '.join(t[1:])\n",
    "\n",
    "def course_days(section):\n",
    "    days = [day.string.strip() for day in section.find_all('span', {'class': 'day'})]\n",
    "    return ''.join(days) if days else '-'\n",
    "\n",
    "def course_time(section):\n",
    "    time = section.find('div', {'class': 'time'}).string\n",
    "    if time:\n",
    "        t = TIME.findall(time)\n",
    "        return norm_time(*t[0]), norm_time(*t[1])\n",
    "    else:\n",
    "        return -1, -1\n",
    "\n",
    "def course_location(section):\n",
    "    loc = section.find('div', {'class': 'location'}).string\n",
    "    return loc if loc else '-'\n",
    "\n",
    "def course_instructors(section):\n",
    "    its = [inst.string.strip() for inst in section.find_all('div', {'class': 'instructor'}) if inst.string]\n",
    "    return '; '.join(its).strip() if its else '-'"
   ]
  },
  {
   "cell_type": "markdown",
   "metadata": {
    "deletable": true,
    "editable": true
   },
   "source": [
    "Parse the HTML source:"
   ]
  },
  {
   "cell_type": "code",
   "execution_count": 17,
   "metadata": {
    "collapsed": false,
    "deletable": true,
    "editable": true,
    "scrolled": false
   },
   "outputs": [],
   "source": [
    "def extract_course_info(term_id):\n",
    "    url = 'http://atlas.college.emory.edu/schedules/index.php'\n",
    "    s = requests.session()\n",
    "    s.get(url, params={'t': term_id})\n",
    "    programs = ['QTM']\n",
    "    course_info = {}\n",
    "\n",
    "    for program in programs:\n",
    "        r = s.get(url, params={'select': program})\n",
    "        html = BeautifulSoup(r.text, 'html.parser')\n",
    "        for course in html.find_all('div', {'class': 'course'}):\n",
    "            course_number = course.find('h3').string\n",
    "            for section in course.find_all('li', {'class': 'section'}):\n",
    "                section_id, title = course_title(section)\n",
    "                days = norm_days(course_days(section))\n",
    "                time = course_time(section)\n",
    "                location = course_location(section)\n",
    "                instructors = course_instructors(section)\n",
    "                course_info[(course_number, section_id)] = (title, days, time, location, instructors)\n",
    "\n",
    "    return course_info"
   ]
  },
  {
   "cell_type": "code",
   "execution_count": 18,
   "metadata": {
    "collapsed": false,
    "deletable": true,
    "editable": true,
    "scrolled": true
   },
   "outputs": [
    {
     "name": "stdout",
     "output_type": "stream",
     "text": [
      " QTM 100- 1: ('Intro to Stat Inference', 20, (830, 945), 'Math & Science Center - E208', 'Chen, Xuan')\n",
      " QTM 100-11: ('Intro to Stat Inference', 1, (900, 950), 'Callaway Center C101', 'Chen, Xuan; Morin, Elyse')\n",
      " QTM 100-12: ('Intro to Stat Inference', 1, (1100, 1150), 'Math & Science Center - N306', 'Park, Kevin; Chen, Xuan')\n",
      " QTM 100-13: ('Intro to Stat Inference', 1, (1300, 1350), 'Math & Science Center - N306', 'Park, Kevin; Chen, Xuan')\n",
      " QTM 100-14: ('Intro to Stat Inference', 1, (1000, 1050), 'Math & Science Center - N306', 'Zaretski, Aliaksandr; Chen, Xuan')\n",
      " QTM 100-15: ('Intro to Stat Inference', 1, (2400, 2450), 'Callaway Center C101', 'Lauer, Jillian; Chen, Xuan')\n",
      " QTM 100-16: ('Intro to Stat Inference', 1, (1400, 1450), 'Math & Science Center - N306', 'Buller, Ian; Chen, Xuan')\n",
      " QTM 100-17: ('Intro to Stat Inference', 1, (1000, 1050), 'New Psyc Bldg 230 (36 Eagle Ro', 'Kim, Ho Jin; Pollak, Rebecca')\n",
      " QTM 100-18: ('Intro to Stat Inference', 1, (2400, 2450), 'New Psyc Bldg 230 (36 Eagle Ro', 'Zhang, Yiran; Kim, Ho Jin')\n",
      " QTM 100-19: ('Intro to Stat Inference', 1, (1400, 1450), 'New Psyc Bldg 230 (36 Eagle Ro', 'Kim, Ho Jin; Ryan, Trent')\n",
      " QTM 100- 2: ('Intro to Stat Inference', 20, (1000, 1115), 'Math & Science Center - E208', 'Chen, Xuan')\n",
      " QTM 100-20: ('Intro to Stat Inference', 1, (900, 950), 'New Psyc Bldg 230 (36 Eagle Ro', 'Minten, Elizabeth; Gong, Zhiyun')\n",
      " QTM 100-21: ('Intro to Stat Inference', 1, (1100, 1150), 'Math & Science Center - N304', 'Grant, Crystal; Gong, Zhiyun')\n",
      " QTM 100-22: ('Intro to Stat Inference', 1, (1300, 1350), 'New Psyc Bldg 230 (36 Eagle Ro', 'Gong, Zhiyun; Liang, Donghai')\n",
      " QTM 100- 3: ('Intro to Stat Inference', 10, (830, 945), 'Math & Science Center - E208', 'Kim, Ho Jin')\n",
      " QTM 100- 4: ('Intro to Stat Inference', 10, (1600, 1715), 'Math & Science Center - E208', 'Gong, Zhiyun')\n",
      " QTM 110- 1: ('Intro to Scientific Methods', 20, (1300, 1415), 'Math & Science Center - E208', 'Martin, Gregory')\n",
      " QTM 120- 1: ('Math for Quantitative Sciences', 20, (1000, 1115), 'White Hall 205', 'Jacobson, Jeremy')\n",
      " QTM 120- 2: ('Math.for Quantitative Sciences', 1, (1000, 1050), 'White Hall 112', 'Jacobson, Jeremy')\n",
      " QTM 150- 1: ('Intro to Stat Computing I', 1, (2400, 2450), 'White Hall 112', 'Gong, Zhiyun')\n",
      " QTM 151- 1: ('Intro to Stat Computing II', 1, (1300, 1350), 'Math & Science Center - E208', 'Gong, Zhiyun')\n",
      " QTM 210- 1: ('Probability and Statistics', 10, (1130, 2445), 'White Hall 112', 'Jacobson, Jeremy')\n",
      " QTM 210- 2: ('Probability and Statistics', 1, (1100, 1150), 'White Hall 112', 'Jacobson, Jeremy')\n",
      " QTM 220- 1: ('Regression Analysis', 10, (1430, 1545), 'White Hall 206', 'An, Weihua')\n",
      " QTM 220- 2: ('Regression Analysis', 1, (1400, 1450), 'White Hall 206', 'An, Weihua; Bergenfeld, Irina')\n",
      " QTM 285- 1: ('Topics in Quantitative ScienceIntr.to Data Science Computing', 10, (1000, 1115), 'Callaway Center S105', 'Jacobson, Jeremy')\n",
      "QTM 302W- 1: ('Technical Writing', 10, (1600, 1715), 'Math & Science Center - N306', 'Fisher, David')\n",
      " QTM 345- 1: ('Advanced Statistics', 10, (1730, 1845), 'Callaway Center S105', 'Lin, Zhongjian')\n",
      " QTM 355- 1: ('Intr to Time Series Analysis', 20, (1300, 1415), 'Callaway Center C101', 'Berman, Gordon')\n",
      " QTM 385- 1: ('Special Topics: QTMPractical Approaches to Data Science with Text', 20, (1430, 1545), 'Math & Science Center - W201', 'Choi, Jinho')\n",
      " QTM 385- 2: ('Special Topics: QTMSocial Network Analysis', 8, (1700, 2000), 'Tarbutton Hall 206', 'An, Weihua')\n",
      " QTM 385- 3: ('Special Topics: QTMGeneralized Linear Model', 10, (1130, 2445), 'Math & Science Center - N306', 'Chen, Yunxiao')\n",
      "QTM 398R- 1: ('Peer Mentoring in Statistics', 0, (1200, 1200), '-', 'Kim, Ho Jin; Gong, Zhiyun; Chen, Xuan')\n",
      " QTM 491- 1: ('Design / Analysis Experiments', 20, (1600, 1715), 'TARBUTTON_120A', 'Bueno, Natalia')\n",
      "QTM 495BW- 1: ('Honors Research', 0, (1200, 1200), '-', 'Kim, Ho Jin')\n",
      "QTM 496R- 1: ('Quantitative Sci. Internship', 0, (1200, 1200), '-', '-')\n",
      "QTM 497R- 1: ('Directed Study', 0, (1200, 1200), '-', '-')\n"
     ]
    }
   ],
   "source": [
    "course_info = extract_course_info('5181')\n",
    "for k, v in course_info.items():\n",
    "    print('%8s-%2s: %s' % (k[0], k[1], v))"
   ]
  },
  {
   "cell_type": "markdown",
   "metadata": {
    "deletable": true,
    "editable": true
   },
   "source": [
    "## Data Aggregation\n",
    "\n",
    "Integrate the exam schedule into each section of the course:"
   ]
  },
  {
   "cell_type": "code",
   "execution_count": 19,
   "metadata": {
    "collapsed": false,
    "deletable": true,
    "editable": true
   },
   "outputs": [],
   "source": [
    "url = 'http://registrar.emory.edu/faculty-staff/exam-schedule/spring-2018.html'\n",
    "exam_schedule = extract_exam_schedule(url)\n",
    "course_info = extract_course_info('5181')\n",
    "course_exam = {}\n",
    "\n",
    "for k, v in course_info.items():\n",
    "    days = v[1]\n",
    "    time = v[2]\n",
    "    key = (time[0], days)\n",
    "\n",
    "    if key in exam_schedule:\n",
    "        course_exam['-'.join(k)] = exam_schedule[key]"
   ]
  },
  {
   "cell_type": "code",
   "execution_count": 20,
   "metadata": {
    "collapsed": false,
    "deletable": true,
    "editable": true
   },
   "outputs": [
    {
     "name": "stdout",
     "output_type": "stream",
     "text": [
      "QTM 100-1 ('Tuesday', '8-May', '11:30 A.M - 2:00 P.M')\n",
      "QTM 100-2 ('Monday', '7-May', '8:00 A.M - 10:30 A.M')\n",
      "QTM 100-3 ('Tuesday', '8-May', '3:00 P.M - 5:30 P.M')\n",
      "QTM 100-4 ('Wednesday', '9-May', '11:30 A.M - 2:00 P.M')\n",
      "QTM 110-1 ('Thursday', '3-May', '3:00 P.M - 5:30 P.M')\n",
      "QTM 120-1 ('Monday', '7-May', '8:00 A.M - 10:30 A.M')\n",
      "QTM 210-1 ('Thursday', '3-May', '8:00 A.M - 10:30 A.M')\n",
      "QTM 220-1 ('Monday', '7-May', '3:00 P.M - 5:30 P.M')\n",
      "QTM 285-1 ('Tuesday', '8-May', '8:00 A.M - 10:30 A.M')\n",
      "QTM 302W-1 ('Wednesday', '9-May', '11:30 A.M - 2:00 P.M')\n",
      "QTM 345-1 ('Tuesday', '8-May', '6:30 P.M - 9:00 P.M')\n",
      "QTM 355-1 ('Thursday', '3-May', '3:00 P.M - 5:30 P.M')\n",
      "QTM 385-1 ('Wednesday', '9-May', '3:00 P.M - 5:30 P.M')\n",
      "QTM 385-3 ('Thursday', '3-May', '8:00 A.M - 10:30 A.M')\n",
      "QTM 491-1 ('Friday', '4-May', '11:30 A.M - 2:00 P.M')\n"
     ]
    }
   ],
   "source": [
    "for k, v in course_exam.items():\n",
    "    print(k, v)"
   ]
  },
  {
   "cell_type": "markdown",
   "metadata": {
    "deletable": true,
    "editable": true
   },
   "source": [
    "Save the aggregated data to a JSON file:"
   ]
  },
  {
   "cell_type": "code",
   "execution_count": 21,
   "metadata": {
    "collapsed": false,
    "deletable": true,
    "editable": true
   },
   "outputs": [],
   "source": [
    "import json\n",
    "\n",
    "jsonfile = '../dat/course_exam_spring_2018.json'\n",
    "with open(jsonfile, 'w') as fout:\n",
    "    json.dump(course_exam, fout)"
   ]
  },
  {
   "cell_type": "markdown",
   "metadata": {
    "deletable": true,
    "editable": true
   },
   "source": [
    "Load the saved data from the JSON file:"
   ]
  },
  {
   "cell_type": "code",
   "execution_count": 22,
   "metadata": {
    "collapsed": false,
    "deletable": true,
    "editable": true,
    "scrolled": true
   },
   "outputs": [
    {
     "name": "stdout",
     "output_type": "stream",
     "text": [
      "QTM 100-1 ['Tuesday', '8-May', '11:30 A.M - 2:00 P.M']\n",
      "QTM 100-2 ['Monday', '7-May', '8:00 A.M - 10:30 A.M']\n",
      "QTM 100-3 ['Tuesday', '8-May', '3:00 P.M - 5:30 P.M']\n",
      "QTM 100-4 ['Wednesday', '9-May', '11:30 A.M - 2:00 P.M']\n",
      "QTM 110-1 ['Thursday', '3-May', '3:00 P.M - 5:30 P.M']\n",
      "QTM 120-1 ['Monday', '7-May', '8:00 A.M - 10:30 A.M']\n",
      "QTM 210-1 ['Thursday', '3-May', '8:00 A.M - 10:30 A.M']\n",
      "QTM 220-1 ['Monday', '7-May', '3:00 P.M - 5:30 P.M']\n",
      "QTM 285-1 ['Tuesday', '8-May', '8:00 A.M - 10:30 A.M']\n",
      "QTM 302W-1 ['Wednesday', '9-May', '11:30 A.M - 2:00 P.M']\n",
      "QTM 345-1 ['Tuesday', '8-May', '6:30 P.M - 9:00 P.M']\n",
      "QTM 355-1 ['Thursday', '3-May', '3:00 P.M - 5:30 P.M']\n",
      "QTM 385-1 ['Wednesday', '9-May', '3:00 P.M - 5:30 P.M']\n",
      "QTM 385-3 ['Thursday', '3-May', '8:00 A.M - 10:30 A.M']\n",
      "QTM 491-1 ['Friday', '4-May', '11:30 A.M - 2:00 P.M']\n"
     ]
    }
   ],
   "source": [
    "with open(jsonfile) as fin:\n",
    "    d = json.load(fin)\n",
    "\n",
    "for k, v in d.items():\n",
    "    print(k, v)"
   ]
  }
 ],
 "metadata": {
  "kernelspec": {
   "display_name": "Python 3",
   "language": "python",
   "name": "python3"
  },
  "language_info": {
   "codemirror_mode": {
    "name": "ipython",
    "version": 3
   },
   "file_extension": ".py",
   "mimetype": "text/x-python",
   "name": "python",
   "nbconvert_exporter": "python",
   "pygments_lexer": "ipython3",
   "version": "3.6.0"
  }
 },
 "nbformat": 4,
 "nbformat_minor": 2
}
