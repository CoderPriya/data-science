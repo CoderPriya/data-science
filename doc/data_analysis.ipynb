{
 "cells": [
  {
   "cell_type": "markdown",
   "metadata": {
    "deletable": true,
    "editable": true
   },
   "source": [
    "# Data Analysis\n",
    "\n",
    "## Task\n",
    "\n",
    "Analyze course information provided by the Computer Science department at Emory University for the last 10 years (2008 ~ 2018)."
   ]
  },
  {
   "cell_type": "markdown",
   "metadata": {
    "deletable": true,
    "editable": true
   },
   "source": [
    "## CSV File\n",
    "\n",
    "Read [cs_courses_2008_2018.csv](../dat/cs_courses_2008_2018.csv), where each column contains the following information:\n",
    "\n",
    "* `0`: Term\n",
    "* `1`: Career\n",
    "* `2`: Class Number\n",
    "* `3`: Subject\n",
    "* `4`: Catalog Number\n",
    "* `5`: Section\n",
    "* `6`: Title\n",
    "* `7`: Topic\n",
    "* `8`: Mininum Hours\n",
    "* `9`: Maximum Hours\n",
    "* `10`: Maximum Enrollment\n",
    "* `11`: Enrollment\n",
    "* `12`: Instructor Name\n",
    "* `13`: Grade Basis\n",
    "* `14`: Class Status"
   ]
  },
  {
   "cell_type": "code",
   "execution_count": 43,
   "metadata": {
    "collapsed": false,
    "deletable": true,
    "editable": true,
    "scrolled": true
   },
   "outputs": [
    {
     "name": "stdout",
     "output_type": "stream",
     "text": [
      "1254\n"
     ]
    }
   ],
   "source": [
    "import csv\n",
    "\n",
    "csv_file = '../dat/cs_courses_2008_2018.csv'\n",
    "\n",
    "with open(csv_file) as fin:\n",
    "    reader = csv.reader(fin)\n",
    "    course_info = [row for i, row in enumerate(reader)]\n",
    "\n",
    "print(len(course_info))"
   ]
  },
  {
   "cell_type": "markdown",
   "metadata": {
    "deletable": true,
    "editable": true
   },
   "source": [
    "Skip the header (first row) and courses that:\n",
    "\n",
    "* have 0 enrollment, or\n",
    "* have no instructor, or\n",
    "* are not active."
   ]
  },
  {
   "cell_type": "code",
   "execution_count": 44,
   "metadata": {
    "collapsed": false,
    "deletable": true,
    "editable": true
   },
   "outputs": [],
   "source": [
    "def skip(i, row):\n",
    "    return i == 0 or \\\n",
    "           int(row[11]) == 0 or \\\n",
    "           row[12].strip() == '' or \\\n",
    "           row[14].strip() != 'Active'"
   ]
  },
  {
   "cell_type": "markdown",
   "metadata": {
    "deletable": true,
    "editable": true
   },
   "source": [
    "Collect necessary information from each row."
   ]
  },
  {
   "cell_type": "code",
   "execution_count": 45,
   "metadata": {
    "collapsed": false,
    "deletable": true,
    "editable": true
   },
   "outputs": [],
   "source": [
    "def info(row):\n",
    "    # term is normalized to (year, term_id) (e.g., 5181 -> (2018, 1))\n",
    "    # term_id = 1: Spring, 6: Summer, 9: Fall\n",
    "    r = row[0]\n",
    "    term = (2000 + int((int(r) - 5000) / 10), int(r[-1]))\n",
    "\n",
    "    return {'term': term,\n",
    "            'subject': row[3].strip(),\n",
    "            'catalog': row[4].strip(),\n",
    "            'section': row[5].strip(),\n",
    "            'title': row[6].strip(),\n",
    "            'min_hours': int(row[8]),\n",
    "            'max_hours': int(row[9]),\n",
    "            'enrollment': int(row[11]),\n",
    "            'instructor': row[12].strip()}"
   ]
  },
  {
   "cell_type": "markdown",
   "metadata": {},
   "source": [
    "Use [namespace](https://docs.python.org/library/types.html#types.SimpleNamespace) instead of dictionary for easy access to these fields, and split the instructor name into (lastname, firstname)."
   ]
  },
  {
   "cell_type": "code",
   "execution_count": 46,
   "metadata": {
    "collapsed": true
   },
   "outputs": [],
   "source": [
    "from types import SimpleNamespace\n",
    "\n",
    "def info(row):\n",
    "    # term is normalized to (year, term_id) (e.g., 5181 -> (2018, 1))\n",
    "    # term_id = 1: Spring, 6: Summer, 9: Fall\n",
    "    r = row[0]\n",
    "    term = (2000 + int((int(r) - 5000) / 10), int(r[-1]))\n",
    "    \n",
    "    # name = lastname,firstname\n",
    "    r = row[12].split(',')\n",
    "    instructor = (r[0].strip(), r[1].strip())\n",
    "\n",
    "    return SimpleNamespace(\n",
    "        term=term,\n",
    "        subject=row[3].strip(),\n",
    "        catalog=row[4].strip(),\n",
    "        section=row[5].strip(),\n",
    "        title=row[6].strip(),\n",
    "        min_hours=int(row[8]),\n",
    "        max_hours=int(row[9]),\n",
    "        enrollment=int(row[11]),\n",
    "        instructor=instructor)"
   ]
  },
  {
   "cell_type": "markdown",
   "metadata": {
    "deletable": true,
    "editable": true
   },
   "source": [
    "Create a function that returns the list of all course information."
   ]
  },
  {
   "cell_type": "code",
   "execution_count": 47,
   "metadata": {
    "collapsed": false,
    "deletable": true,
    "editable": true
   },
   "outputs": [
    {
     "name": "stdout",
     "output_type": "stream",
     "text": [
      "1031\n"
     ]
    }
   ],
   "source": [
    "def load_course_info(csv_file):\n",
    "    with open(csv_file) as fin:\n",
    "        reader = csv.reader(fin)\n",
    "        course_info = [info(row) for i, row in enumerate(reader) if not skip(i, row)]\n",
    "    \n",
    "    return course_info\n",
    "\n",
    "course_info = load_course_info(csv_file)\n",
    "print(len(course_info))"
   ]
  },
  {
   "cell_type": "markdown",
   "metadata": {
    "deletable": true,
    "editable": true
   },
   "source": [
    "## Data Retrieval"
   ]
  },
  {
   "cell_type": "markdown",
   "metadata": {
    "deletable": true,
    "editable": true
   },
   "source": [
    "Retrieve the number of enrollments by terms."
   ]
  },
  {
   "cell_type": "code",
   "execution_count": 48,
   "metadata": {
    "collapsed": false,
    "deletable": true,
    "editable": true,
    "scrolled": true
   },
   "outputs": [
    {
     "name": "stdout",
     "output_type": "stream",
     "text": [
      "(2008, 9) 311\n",
      "(2009, 1) 268\n",
      "(2009, 6) 37\n",
      "(2009, 9) 408\n",
      "(2010, 1) 275\n",
      "(2010, 6) 23\n",
      "(2010, 9) 439\n",
      "(2011, 1) 417\n",
      "(2011, 6) 35\n",
      "(2011, 9) 578\n",
      "(2012, 1) 481\n",
      "(2012, 6) 40\n",
      "(2012, 9) 578\n",
      "(2013, 1) 653\n",
      "(2013, 6) 40\n",
      "(2013, 9) 763\n",
      "(2014, 1) 785\n",
      "(2014, 6) 81\n",
      "(2014, 9) 763\n",
      "(2015, 1) 949\n",
      "(2015, 6) 73\n",
      "(2015, 9) 1016\n",
      "(2016, 1) 1107\n",
      "(2016, 6) 53\n",
      "(2016, 9) 1099\n",
      "(2017, 1) 1031\n",
      "(2017, 6) 135\n",
      "(2017, 9) 1191\n",
      "(2018, 1) 1096\n"
     ]
    }
   ],
   "source": [
    "def enrollment_by_term(course_info):\n",
    "    enroll = {}\n",
    "    for c in course_info:\n",
    "        term = c.term\n",
    "        enroll[term] = enroll.get(term, 0) + c.enrollment\n",
    "    \n",
    "    return enroll\n",
    "\n",
    "d = enrollment_by_term(course_info)\n",
    "for k, v in sorted(d.items()): print(k, v)"
   ]
  },
  {
   "cell_type": "raw",
   "metadata": {
    "deletable": true,
    "editable": true
   },
   "source": [
    "Retrieve the number of enrollments by academic years."
   ]
  },
  {
   "cell_type": "code",
   "execution_count": 49,
   "metadata": {
    "collapsed": true,
    "deletable": true,
    "editable": true
   },
   "outputs": [],
   "source": [
    "def term_to_year(term):\n",
    "    \"\"\"\n",
    "    :param term: a tuple of (year, term_id).\n",
    "    \"\"\"\n",
    "    return term[0] if term[1] == 9 else term[0] - 1"
   ]
  },
  {
   "cell_type": "code",
   "execution_count": 50,
   "metadata": {
    "collapsed": false,
    "deletable": true,
    "editable": true
   },
   "outputs": [
    {
     "name": "stdout",
     "output_type": "stream",
     "text": [
      "2008 616\n",
      "2009 706\n",
      "2010 891\n",
      "2011 1099\n",
      "2012 1271\n",
      "2013 1629\n",
      "2014 1785\n",
      "2015 2176\n",
      "2016 2265\n",
      "2017 2287\n"
     ]
    }
   ],
   "source": [
    "def enrollment_by_academic_year(course_info):\n",
    "    enroll = {}\n",
    "    for c in course_info:\n",
    "        year = term_to_year(c.term)\n",
    "        enroll[year] = enroll.get(year, 0) + c.enrollment\n",
    "    \n",
    "    return enroll\n",
    "\n",
    "d = enrollment_by_academic_year(course_info)\n",
    "for k, v in sorted(d.items()): print(k, v)"
   ]
  },
  {
   "cell_type": "markdown",
   "metadata": {
    "deletable": true,
    "editable": true
   },
   "source": [
    "Plot the number of enrollments by academic years."
   ]
  },
  {
   "cell_type": "code",
   "execution_count": 51,
   "metadata": {
    "collapsed": false,
    "deletable": true,
    "editable": true
   },
   "outputs": [
    {
     "data": {
      "image/png": "[encoded data removed]",
      "text/plain": [
       "<matplotlib.figure.Figure at 0x10c886160>"
      ]
     },
     "metadata": {},
     "output_type": "display_data"
    }
   ],
   "source": [
    "import matplotlib.pyplot as plt\n",
    "\n",
    "def plot_dict(d):\n",
    "    xs, ys = zip(*[(k, v) for k, v in sorted(d.items())])\n",
    "    plt.scatter(xs, ys)\n",
    "    plt.plot(xs, ys)\n",
    "    plt.grid(b='on')\n",
    "    plt.show()\n",
    "\n",
    "plot_dict(d)"
   ]
  },
  {
   "cell_type": "markdown",
   "metadata": {
    "deletable": true,
    "editable": true
   },
   "source": [
    "Retrieve the number of enrollments by academic years selectively:\n",
    "\n",
    "* Regular courses.\n",
    "* Research courses.\n",
    "* Undergraduate courses.\n",
    "* Graduate courses."
   ]
  },
  {
   "cell_type": "code",
   "execution_count": 52,
   "metadata": {
    "collapsed": false,
    "deletable": true,
    "editable": true
   },
   "outputs": [
    {
     "data": {
      "image/png": "[encoded data removed]",
      "text/plain": [
       "<matplotlib.figure.Figure at 0x10c8b01d0>"
      ]
     },
     "metadata": {},
     "output_type": "display_data"
    }
   ],
   "source": [
    "def enrollment_by_academic_year(course_info, regular=True, research=True, undergraduate=True, graduate=True):\n",
    "    enroll = {}\n",
    "    for c in course_info:\n",
    "        # research courses include 'R' in the catalog, except for '130R'\n",
    "        if c.catalog != '130R' and 'R' in c.catalog:\n",
    "            if not research: continue\n",
    "        elif not regular:\n",
    "            continue\n",
    "        \n",
    "        # undergraduate courses are < 500\n",
    "        if int(c.catalog[0]) < 5:\n",
    "            if not undergraduate: continue\n",
    "        elif not graduate:\n",
    "            continue\n",
    "        \n",
    "        year = term_to_year(c.term)\n",
    "        enroll[year] = enroll.get(year, 0) + c.enrollment\n",
    "    \n",
    "    return enroll\n",
    "\n",
    "d = enrollment_by_academic_year(course_info)\n",
    "plot_dict(d)"
   ]
  },
  {
   "cell_type": "code",
   "execution_count": 53,
   "metadata": {
    "collapsed": false,
    "deletable": true,
    "editable": true
   },
   "outputs": [
    {
     "data": {
      "image/png": "[encoded data removed]",
      "text/plain": [
       "<matplotlib.figure.Figure at 0x10c50bc50>"
      ]
     },
     "metadata": {},
     "output_type": "display_data"
    }
   ],
   "source": [
    "d = enrollment_by_academic_year(course_info, research=False)\n",
    "plot_dict(d)"
   ]
  },
  {
   "cell_type": "code",
   "execution_count": 54,
   "metadata": {
    "collapsed": false,
    "deletable": true,
    "editable": true
   },
   "outputs": [
    {
     "data": {
      "image/png": "[encoded data removed]",
      "text/plain": [
       "<matplotlib.figure.Figure at 0x10cb69cf8>"
      ]
     },
     "metadata": {},
     "output_type": "display_data"
    }
   ],
   "source": [
    "d = enrollment_by_academic_year(course_info, regular=False)\n",
    "plot_dict(d)"
   ]
  },
  {
   "cell_type": "code",
   "execution_count": 55,
   "metadata": {
    "collapsed": false,
    "deletable": true,
    "editable": true
   },
   "outputs": [
    {
     "data": {
      "image/png": "[encoded data removed]",
      "text/plain": [
       "<matplotlib.figure.Figure at 0x10cbd5470>"
      ]
     },
     "metadata": {},
     "output_type": "display_data"
    }
   ],
   "source": [
    "d = enrollment_by_academic_year(course_info, regular=False, graduate=False)\n",
    "plot_dict(d)"
   ]
  },
  {
   "cell_type": "code",
   "execution_count": 56,
   "metadata": {
    "collapsed": false,
    "deletable": true,
    "editable": true
   },
   "outputs": [
    {
     "data": {
      "image/png": "[encoded data removed]",
      "text/plain": [
       "<matplotlib.figure.Figure at 0x10c570cc0>"
      ]
     },
     "metadata": {},
     "output_type": "display_data"
    }
   ],
   "source": [
    "d = enrollment_by_academic_year(course_info, regular=False, undergraduate=False)\n",
    "plot_dict(d)"
   ]
  },
  {
   "cell_type": "markdown",
   "metadata": {
    "deletable": true,
    "editable": true
   },
   "source": [
    "Retrieve the set of instructors by terms."
   ]
  },
  {
   "cell_type": "markdown",
   "metadata": {
    "deletable": true,
    "editable": true
   },
   "source": [
    "Use namespace instead of dictionary, and split the name into (lastname, firstname)."
   ]
  },
  {
   "cell_type": "code",
   "execution_count": 57,
   "metadata": {
    "collapsed": false,
    "deletable": true,
    "editable": true,
    "scrolled": true
   },
   "outputs": [
    {
     "name": "stdout",
     "output_type": "stream",
     "text": [
      "(2008, 9) 9\n",
      "(2009, 1) 12\n",
      "(2009, 6) 1\n",
      "(2009, 9) 14\n",
      "(2010, 1) 13\n",
      "(2010, 6) 5\n",
      "(2010, 9) 14\n",
      "(2011, 1) 19\n",
      "(2011, 6) 4\n",
      "(2011, 9) 20\n",
      "(2012, 1) 22\n",
      "(2012, 6) 4\n",
      "(2012, 9) 20\n",
      "(2013, 1) 22\n",
      "(2013, 6) 5\n",
      "(2013, 9) 24\n",
      "(2014, 1) 28\n",
      "(2014, 6) 7\n",
      "(2014, 9) 30\n",
      "(2015, 1) 24\n",
      "(2015, 6) 3\n",
      "(2015, 9) 19\n",
      "(2016, 1) 23\n",
      "(2016, 6) 5\n",
      "(2016, 9) 21\n",
      "(2017, 1) 24\n",
      "(2017, 6) 11\n",
      "(2017, 9) 21\n",
      "(2018, 1) 24\n"
     ]
    }
   ],
   "source": [
    "def instructor_by_term(course_info):\n",
    "    inst = {}\n",
    "    for c in course_info:\n",
    "        if c.term in inst:\n",
    "            inst[c.term].add(c.instructor)\n",
    "        else:\n",
    "            inst[c.term] = {c.instructor}\n",
    "\n",
    "    return inst\n",
    "\n",
    "d = instructor_by_term(course_info)\n",
    "for k, v in sorted(d.items()): print(k, len(v))"
   ]
  },
  {
   "cell_type": "markdown",
   "metadata": {
    "deletable": true,
    "editable": true
   },
   "source": [
    "Normalize terms to a readable form."
   ]
  },
  {
   "cell_type": "code",
   "execution_count": 58,
   "metadata": {
    "collapsed": false,
    "deletable": true,
    "editable": true
   },
   "outputs": [
    {
     "name": "stdout",
     "output_type": "stream",
     "text": [
      "('Fall', 2008) 9\n",
      "('Spring', 2009) 12\n",
      "('Summer', 2009) 1\n",
      "('Fall', 2009) 14\n",
      "('Spring', 2010) 13\n",
      "('Summer', 2010) 5\n",
      "('Fall', 2010) 14\n",
      "('Spring', 2011) 19\n",
      "('Summer', 2011) 4\n",
      "('Fall', 2011) 20\n",
      "('Spring', 2012) 22\n",
      "('Summer', 2012) 4\n",
      "('Fall', 2012) 20\n",
      "('Spring', 2013) 22\n",
      "('Summer', 2013) 5\n",
      "('Fall', 2013) 24\n",
      "('Spring', 2014) 28\n",
      "('Summer', 2014) 7\n",
      "('Fall', 2014) 30\n",
      "('Spring', 2015) 24\n",
      "('Summer', 2015) 3\n",
      "('Fall', 2015) 19\n",
      "('Spring', 2016) 23\n",
      "('Summer', 2016) 5\n",
      "('Fall', 2016) 21\n",
      "('Spring', 2017) 24\n",
      "('Summer', 2017) 11\n",
      "('Fall', 2017) 21\n",
      "('Spring', 2018) 24\n"
     ]
    }
   ],
   "source": [
    "def term_to_str(term):\n",
    "    year = term[0]\n",
    "    if term[1] == 1: t = 'Spring'\n",
    "    elif term[1] == 6: t = 'Summer'\n",
    "    elif term[1] == 9: t = 'Fall'\n",
    "    else: t = ''\n",
    "    return t, year\n",
    "\n",
    "for k, v in sorted(d.items()): print(term_to_str(k), len(v))"
   ]
  },
  {
   "cell_type": "markdown",
   "metadata": {
    "deletable": true,
    "editable": true
   },
   "source": [
    "## Levenshtein Distance\n",
    "\n",
    "Match professor names in `course_info`.\n",
    "\n",
    "### Exercise\n",
    "\n",
    "```python\n",
    "def when_did_prof_x_start_teaching_cs_at_emory(course_info, lastname=None, firstname=None):\n",
    "    \"\"\"\n",
    "    :param course_info: the output of load_course_info().\n",
    "    :param lastname: the last name of the professor.\n",
    "    :param firstname: the first name of the professor.\n",
    "    :return: if both lastname and firstname are provided, the list of all instructors with their first terms.\n",
    "          if only lastname is provided, the list of all instructors with the last name with their first terms.\n",
    "          if only firstname is provided, the list of all instructors with the first name with their first terms.\n",
    "    \"\"\"\n",
    "```"
   ]
  },
  {
   "cell_type": "code",
   "execution_count": 59,
   "metadata": {
    "collapsed": true,
    "deletable": true,
    "editable": true
   },
   "outputs": [],
   "source": [
    "def match(instructor, lastname, firstname):\n",
    "    l = not lastname or instructor[0] == lastname\n",
    "    f = not firstname or instructor[1] == firstname\n",
    "    return l and f"
   ]
  },
  {
   "cell_type": "code",
   "execution_count": 60,
   "metadata": {
    "collapsed": true,
    "deletable": true,
    "editable": true
   },
   "outputs": [],
   "source": [
    "def when_did_prof_x_start_teaching_cs_at_emory(course_info, lastname=None, firstname=None):\n",
    "    # both lastname and firstname are provided\n",
    "    if lastname and firstname:\n",
    "        n = next((c for c in course_info if match(c.instructor, lastname, firstname)), None)\n",
    "        return [(*n.instructor, *term_to_str(n.term))] if n else []\n",
    "\n",
    "    # only lastname or firstname is provided\n",
    "    inst = {}\n",
    "\n",
    "    for c in course_info:\n",
    "        key = c.instructor\n",
    "        if match(key, lastname, firstname) and key not in inst:\n",
    "            inst[key] = term_to_str(c.term)\n",
    "\n",
    "    return [(*k, *v) for k, v in inst.items()]"
   ]
  },
  {
   "cell_type": "code",
   "execution_count": 61,
   "metadata": {
    "collapsed": false,
    "deletable": true,
    "editable": true
   },
   "outputs": [
    {
     "name": "stdout",
     "output_type": "stream",
     "text": [
      "[('Choi', 'Jinho D', 'Fall', 2014)]\n"
     ]
    }
   ],
   "source": [
    "lastname = 'Choi'\n",
    "insts = when_did_prof_x_start_teaching_cs_at_emory(course_info, lastname=lastname)\n",
    "print(insts)"
   ]
  },
  {
   "cell_type": "code",
   "execution_count": 62,
   "metadata": {
    "collapsed": false,
    "deletable": true,
    "editable": true
   },
   "outputs": [
    {
     "name": "stdout",
     "output_type": "stream",
     "text": [
      "[('Jurczyk', 'Pawel Czeslaw', 'Spring', 2009), ('Jurczyk', 'Tomasz Marek', 'Spring', 2014)]\n"
     ]
    }
   ],
   "source": [
    "lastname = 'Jurczyk'\n",
    "insts = when_did_prof_x_start_teaching_cs_at_emory(course_info, lastname=lastname)\n",
    "print(insts)"
   ]
  },
  {
   "cell_type": "code",
   "execution_count": 63,
   "metadata": {
    "collapsed": false,
    "deletable": true,
    "editable": true
   },
   "outputs": [
    {
     "name": "stdout",
     "output_type": "stream",
     "text": [
      "[]\n"
     ]
    }
   ],
   "source": [
    "firstname = 'Jinho'\n",
    "insts = when_did_prof_x_start_teaching_cs_at_emory(course_info, firstname=firstname)\n",
    "print(insts)"
   ]
  },
  {
   "cell_type": "markdown",
   "metadata": {
    "deletable": true,
    "editable": true
   },
   "source": [
    "Allow partial matching."
   ]
  },
  {
   "cell_type": "code",
   "execution_count": 64,
   "metadata": {
    "collapsed": true,
    "deletable": true,
    "editable": true
   },
   "outputs": [],
   "source": [
    "def match(instructor, lastname, firstname):\n",
    "    l = not lastname or lastname.lower() in set(instructor[0].lower().split())\n",
    "    f = not firstname or firstname.lower() in set(instructor[1].lower().split())\n",
    "    return l and f"
   ]
  },
  {
   "cell_type": "code",
   "execution_count": 65,
   "metadata": {
    "collapsed": false,
    "deletable": true,
    "editable": true
   },
   "outputs": [
    {
     "name": "stdout",
     "output_type": "stream",
     "text": [
      "[('Choi', 'Jinho D', 'Fall', 2014)]\n"
     ]
    }
   ],
   "source": [
    "firstname = 'Jinho'\n",
    "insts = when_did_prof_x_start_teaching_cs_at_emory(course_info, firstname=firstname)\n",
    "print(insts)"
   ]
  },
  {
   "cell_type": "code",
   "execution_count": 66,
   "metadata": {
    "collapsed": false,
    "deletable": true,
    "editable": true
   },
   "outputs": [
    {
     "name": "stdout",
     "output_type": "stream",
     "text": [
      "[]\n"
     ]
    }
   ],
   "source": [
    "firstname = 'Shun Yan'\n",
    "insts = when_did_prof_x_start_teaching_cs_at_emory(course_info, firstname=firstname)\n",
    "print(insts)"
   ]
  },
  {
   "cell_type": "markdown",
   "metadata": {
    "deletable": true,
    "editable": true
   },
   "source": [
    "Allow fuzzy matching using the [`fuzzywuzzy`](https://github.com/seatgeek/fuzzywuzzy) package based on the [Levenshtein distance](https://en.wikipedia.org/wiki/Levenshtein_distance)."
   ]
  },
  {
   "cell_type": "code",
   "execution_count": 67,
   "metadata": {
    "collapsed": false,
    "deletable": true,
    "editable": true
   },
   "outputs": [],
   "source": [
    "from fuzzywuzzy import fuzz\n",
    "\n",
    "def match(instructor, lastname, firstname, threshold):\n",
    "    l = not lastname or fuzz.ratio(lastname.lower(), instructor[0].lower()) >= threshold\n",
    "    f = not firstname or fuzz.ratio(firstname.lower(), instructor[1].lower()) >= threshold\n",
    "    return l and f"
   ]
  },
  {
   "cell_type": "code",
   "execution_count": 68,
   "metadata": {
    "collapsed": true,
    "deletable": true,
    "editable": true
   },
   "outputs": [],
   "source": [
    "def when_did_prof_x_start_teaching_cs_at_emory(course_info, lastname=None, firstname=None, threshold=75):\n",
    "    # both lastname and firstname are provided\n",
    "    if lastname and firstname:\n",
    "        n = next((c for c in course_info if match(c.instructor, lastname, firstname, threshold)), None)\n",
    "        return [(*n.instructor, *term_to_str(n.term))] if n else []\n",
    "\n",
    "    # only lastname or firstname is provided\n",
    "    inst = {}\n",
    "\n",
    "    for c in course_info:\n",
    "        key = c.instructor\n",
    "        if match(key, lastname, firstname, threshold) and key not in inst:\n",
    "            inst[key] = term_to_str(c.term)\n",
    "\n",
    "    return [(*k, *v) for k, v in inst.items()]"
   ]
  },
  {
   "cell_type": "code",
   "execution_count": 69,
   "metadata": {
    "collapsed": false,
    "deletable": true,
    "editable": true
   },
   "outputs": [
    {
     "name": "stdout",
     "output_type": "stream",
     "text": [
      "[('Cheung', 'Shun Yan', 'Fall', 2011)]\n"
     ]
    }
   ],
   "source": [
    "firstname = 'Shun Yan'\n",
    "insts = when_did_prof_x_start_teaching_cs_at_emory(course_info, firstname=firstname)\n",
    "print(insts)"
   ]
  },
  {
   "cell_type": "code",
   "execution_count": 70,
   "metadata": {
    "collapsed": false,
    "deletable": true,
    "editable": true
   },
   "outputs": [
    {
     "name": "stdout",
     "output_type": "stream",
     "text": [
      "[('Cheung', 'Shun Yan', 'Fall', 2011)]\n"
     ]
    }
   ],
   "source": [
    "firstname = 'Shun Yang'\n",
    "insts = when_did_prof_x_start_teaching_cs_at_emory(course_info, firstname=firstname)\n",
    "print(insts)"
   ]
  },
  {
   "cell_type": "code",
   "execution_count": 71,
   "metadata": {
    "collapsed": false,
    "deletable": true,
    "editable": true
   },
   "outputs": [
    {
     "name": "stdout",
     "output_type": "stream",
     "text": [
      "[('Cheung', 'Shun Yan', 'Fall', 2011)]\n"
     ]
    }
   ],
   "source": [
    "firstname = 'ShunYan'\n",
    "insts = when_did_prof_x_start_teaching_cs_at_emory(course_info, firstname=firstname)\n",
    "print(insts)"
   ]
  },
  {
   "cell_type": "markdown",
   "metadata": {
    "deletable": true,
    "editable": true
   },
   "source": [
    "## $TF_{t,d} \\cdot IDF_{t}$"
   ]
  },
  {
   "cell_type": "markdown",
   "metadata": {
    "deletable": true,
    "editable": true
   },
   "source": [
    "Retrive courses taught by a certain professor."
   ]
  },
  {
   "cell_type": "code",
   "execution_count": 72,
   "metadata": {
    "collapsed": true,
    "deletable": true,
    "editable": true
   },
   "outputs": [],
   "source": [
    "def is_research_course(catalog):\n",
    "    return catalog != '130R' and 'R' in catalog"
   ]
  },
  {
   "cell_type": "markdown",
   "metadata": {
    "deletable": true,
    "editable": true
   },
   "source": [
    "### Exercise\n",
    "\n",
    "```python\n",
    "def course_by_instructor(course_info, lastname, include_research=False):\n",
    "    \"\"\"\n",
    "    :param course_info: the output of load_course_info()\n",
    "    :param lastname: the last name of the professor.\n",
    "    :param include_research: if True, include research courses; otherwise, exclude them.\n",
    "    :return: a dictionary where the key is the course number and \n",
    "             the value is the number of terms that the professor `lastname` taught that course.\n",
    "    \"\"\"\n",
    "```"
   ]
  },
  {
   "cell_type": "code",
   "execution_count": 73,
   "metadata": {
    "collapsed": false,
    "deletable": true,
    "editable": true
   },
   "outputs": [
    {
     "data": {
      "text/plain": [
       "Counter({('CS', '323'): 5,\n",
       "         ('CS', '325'): 1,\n",
       "         ('CS', '329'): 1,\n",
       "         ('CS', '571'): 2})"
      ]
     },
     "execution_count": 73,
     "metadata": {},
     "output_type": "execute_result"
    }
   ],
   "source": [
    "from collections import Counter\n",
    "\n",
    "def course_by_instructor(course_info, lastname, include_research=False):\n",
    "    def match(c):\n",
    "        return c.instructor[0] == lastname and \\\n",
    "               (include_research or not is_research_course(c.catalog))\n",
    "\n",
    "    courses = {(*c.term, c.subject, c.catalog) for c in course_info if match(c)}\n",
    "    return Counter([t[2:] for t in courses])\n",
    "\n",
    "course_by_instructor(course_info, 'Choi')"
   ]
  },
  {
   "cell_type": "code",
   "execution_count": 74,
   "metadata": {
    "collapsed": false,
    "deletable": true,
    "editable": true
   },
   "outputs": [
    {
     "name": "stdout",
     "output_type": "stream",
     "text": [
      "78\n"
     ]
    }
   ],
   "source": [
    "def courses_by_instructors(course_info, include_research=False):\n",
    "    d = {}\n",
    "    for c in course_info:\n",
    "        if include_research or not is_research_course(c.catalog):\n",
    "            key = c.instructor\n",
    "            val = (*c.term, c.subject, c.catalog)\n",
    "            if key in d: d[key].add(val)\n",
    "            else: d[key] = {val}\n",
    "\n",
    "    return {k: Counter([t[2:] for t in v]) for k, v in d.items()}\n",
    "\n",
    "prof_course_dict = courses_by_instructors(course_info)\n",
    "print(len(prof_course_dict))"
   ]
  },
  {
   "cell_type": "markdown",
   "metadata": {
    "deletable": true,
    "editable": true
   },
   "source": [
    "Measure [$TF_{t,d} \\cdot IDF_{t}$](https://en.wikipedia.org/wiki/Tf–idf):\n",
    "\n",
    "* Term Frequence: $TF_{t,d}$ = how many times that the term $t$ appears in the document $d$.\n",
    "* Document Frequency: $DF_{t}$ = how many documents include the term $t$.\n",
    "* Inverse Document Frequency: $IDF_{t} = \\log(\\frac{N}{DF_{t}})$, where $N$ is the total number of documents.\n",
    "\n",
    "In our case, each professor is considered a document and each course is considered a term."
   ]
  },
  {
   "cell_type": "markdown",
   "metadata": {
    "deletable": true,
    "editable": true
   },
   "source": [
    "```python\n",
    "def professor_frequency(prof_course_dict):\n",
    "    \"\"\"\n",
    "    :param prof_course_dict: the output of courses_by_instructors().\n",
    "    :return: the counter where the key is (subject, catalog) and the value is its frequency count \n",
    "             with respect to professors.\n",
    "    \"\"\"\n",
    "```"
   ]
  },
  {
   "cell_type": "code",
   "execution_count": null,
   "metadata": {
    "collapsed": true,
    "deletable": true,
    "editable": true
   },
   "outputs": [],
   "source": []
  },
  {
   "cell_type": "code",
   "execution_count": null,
   "metadata": {
    "collapsed": true,
    "deletable": true,
    "editable": true
   },
   "outputs": [],
   "source": []
  },
  {
   "cell_type": "code",
   "execution_count": null,
   "metadata": {
    "collapsed": true,
    "deletable": true,
    "editable": true
   },
   "outputs": [],
   "source": []
  },
  {
   "cell_type": "code",
   "execution_count": null,
   "metadata": {
    "collapsed": true,
    "deletable": true,
    "editable": true
   },
   "outputs": [],
   "source": []
  },
  {
   "cell_type": "code",
   "execution_count": null,
   "metadata": {
    "collapsed": true,
    "deletable": true,
    "editable": true
   },
   "outputs": [],
   "source": []
  },
  {
   "cell_type": "code",
   "execution_count": null,
   "metadata": {
    "collapsed": true,
    "deletable": true,
    "editable": true
   },
   "outputs": [],
   "source": []
  },
  {
   "cell_type": "code",
   "execution_count": null,
   "metadata": {
    "collapsed": true,
    "deletable": true,
    "editable": true
   },
   "outputs": [],
   "source": []
  },
  {
   "cell_type": "code",
   "execution_count": null,
   "metadata": {
    "collapsed": true,
    "deletable": true,
    "editable": true
   },
   "outputs": [],
   "source": []
  },
  {
   "cell_type": "code",
   "execution_count": null,
   "metadata": {
    "collapsed": true,
    "deletable": true,
    "editable": true
   },
   "outputs": [],
   "source": []
  },
  {
   "cell_type": "code",
   "execution_count": null,
   "metadata": {
    "collapsed": true,
    "deletable": true,
    "editable": true
   },
   "outputs": [],
   "source": []
  },
  {
   "cell_type": "code",
   "execution_count": 75,
   "metadata": {
    "collapsed": false,
    "deletable": true,
    "editable": true,
    "scrolled": true
   },
   "outputs": [
    {
     "name": "stdout",
     "output_type": "stream",
     "text": [
      "Counter({('CS', '170'): 39, ('CS', '584'): 18, ('CS', '171'): 17, ('CS', '130R'): 11, ('CS', '224'): 9, ('CS', '323'): 7, ('CS', '485'): 6, ('CS', '255'): 5, ('CS', '377'): 5, ('CS', '325'): 4, ('CS', '370'): 4, ('CS', '110'): 4, ('CS', '190'): 3, ('CS', '730'): 3, ('CS', '590'): 3, ('CS', '534'): 3, ('CS', '540'): 3, ('CS', '424'): 3, ('CS', '572'): 2, ('CS', '571'): 2, ('CS', '455'): 2, ('CS', '554'): 2, ('CS', '558'): 2, ('CS', '574'): 2, ('CS', '570'): 2, ('CS', '155'): 2, ('CS', '425'): 1, ('CS', '557'): 1, ('CS', '559'): 1, ('CS', '355'): 1, ('CS', '561'): 1, ('CS', '329'): 1, ('CS', '153'): 1, ('CS', '526'): 1, ('CS', '524'): 1, ('CS', '740'): 1, ('CS', '563'): 1, ('CS', '556'): 1, ('CS', '171Z'): 1, ('CS', '456'): 1, ('CS', '285'): 1, ('CS', '450'): 1, ('CS', '551'): 1, ('CS', '580'): 1, ('CS', '452'): 1, ('CS', '720'): 1, ('CS', '555'): 1, ('CS', '453'): 1, ('CS', '573'): 1, ('CS', '378'): 1})\n"
     ]
    }
   ],
   "source": [
    "def professor_frequency(prof_course_dict):\n",
    "    return Counter([k for v in prof_course_dict.values() for k in v.keys()])\n",
    "        \n",
    "prof_freq = professor_frequency(prof_course_dict)\n",
    "print(prof_freq)"
   ]
  },
  {
   "cell_type": "markdown",
   "metadata": {
    "deletable": true,
    "editable": true
   },
   "source": [
    "### Exercise\n",
    "\n",
    "```python\n",
    "def what_is_prof_x_special_courses(course_info, lastname):\n",
    "    \"\"\"\n",
    "    :param course_info: the output of load_course_info().\n",
    "    :param lastname: the last name of the professor.\n",
    "    :return: a dictionary where the key is (subject, catalog) and value is its TF-IDF score.\n",
    "    \"\"\"\n",
    "```"
   ]
  },
  {
   "cell_type": "code",
   "execution_count": null,
   "metadata": {
    "collapsed": true,
    "deletable": true,
    "editable": true
   },
   "outputs": [],
   "source": []
  },
  {
   "cell_type": "code",
   "execution_count": null,
   "metadata": {
    "collapsed": true,
    "deletable": true,
    "editable": true
   },
   "outputs": [],
   "source": []
  },
  {
   "cell_type": "code",
   "execution_count": null,
   "metadata": {
    "collapsed": true,
    "deletable": true,
    "editable": true
   },
   "outputs": [],
   "source": []
  },
  {
   "cell_type": "code",
   "execution_count": null,
   "metadata": {
    "collapsed": true,
    "deletable": true,
    "editable": true
   },
   "outputs": [],
   "source": []
  },
  {
   "cell_type": "code",
   "execution_count": null,
   "metadata": {
    "collapsed": true,
    "deletable": true,
    "editable": true
   },
   "outputs": [],
   "source": []
  },
  {
   "cell_type": "code",
   "execution_count": null,
   "metadata": {
    "collapsed": true,
    "deletable": true,
    "editable": true
   },
   "outputs": [],
   "source": []
  },
  {
   "cell_type": "code",
   "execution_count": null,
   "metadata": {
    "collapsed": true,
    "deletable": true,
    "editable": true
   },
   "outputs": [],
   "source": []
  },
  {
   "cell_type": "code",
   "execution_count": null,
   "metadata": {
    "collapsed": true,
    "deletable": true,
    "editable": true
   },
   "outputs": [],
   "source": []
  },
  {
   "cell_type": "code",
   "execution_count": null,
   "metadata": {
    "collapsed": true,
    "deletable": true,
    "editable": true
   },
   "outputs": [],
   "source": []
  },
  {
   "cell_type": "code",
   "execution_count": 95,
   "metadata": {
    "collapsed": false,
    "deletable": true,
    "editable": true,
    "scrolled": true
   },
   "outputs": [
    {
     "name": "stdout",
     "output_type": "stream",
     "text": [
      "('CS', '323') 9.830564281864163\n",
      "('CS', '571') 6.437751649736401\n",
      "('CS', '329') 3.912023005428146\n",
      "('CS', '325') 2.5257286443082556\n"
     ]
    }
   ],
   "source": [
    "import math\n",
    "\n",
    "def what_is_prof_x_special_courses(course_info, lastname):\n",
    "    prof_course_dict = courses_by_instructors(course_info)\n",
    "    prof_freq = professor_frequency(prof_course_dict)\n",
    "    prof_courses = course_by_instructor(course_info, lastname)  # this is inefficient\n",
    "    N = len(prof_freq)\n",
    "    \n",
    "    for k, v in prof_courses.items():\n",
    "        prof_courses[k] *= math.log(N / prof_freq[k])\n",
    "        \n",
    "    return prof_courses\n",
    "        \n",
    "d = what_is_prof_x_special_courses(course_info, 'Choi')\n",
    "for k, v in sorted(d.items(), key=lambda x: x[1], reverse=True): print(k, v)"
   ]
  },
  {
   "cell_type": "markdown",
   "metadata": {
    "deletable": true,
    "editable": true
   },
   "source": [
    "## Vector Space Model\n",
    "\n",
    "Create a vector representation of each professor with respect to their courses.\n",
    "\n",
    "### Exercise\n",
    "\n",
    "```python\n",
    "def prof_to_vec(course_info):\n",
    "    \"\"\"\n",
    "    \"param course_info: the output of load_course_info().\n",
    "    :return: a dictionary where the key is professor's name and the value is a numpy array whose length is the \n",
    "             total number of courses and each dimension in the array represents the TF-IDF score of each course.\n",
    "    \"\"\"\n",
    "```"
   ]
  },
  {
   "cell_type": "code",
   "execution_count": null,
   "metadata": {
    "collapsed": true
   },
   "outputs": [],
   "source": []
  },
  {
   "cell_type": "code",
   "execution_count": null,
   "metadata": {
    "collapsed": true
   },
   "outputs": [],
   "source": []
  },
  {
   "cell_type": "code",
   "execution_count": null,
   "metadata": {
    "collapsed": true
   },
   "outputs": [],
   "source": []
  },
  {
   "cell_type": "code",
   "execution_count": null,
   "metadata": {
    "collapsed": true
   },
   "outputs": [],
   "source": []
  },
  {
   "cell_type": "code",
   "execution_count": null,
   "metadata": {
    "collapsed": true
   },
   "outputs": [],
   "source": []
  },
  {
   "cell_type": "code",
   "execution_count": null,
   "metadata": {
    "collapsed": true
   },
   "outputs": [],
   "source": []
  },
  {
   "cell_type": "code",
   "execution_count": null,
   "metadata": {
    "collapsed": true
   },
   "outputs": [],
   "source": []
  },
  {
   "cell_type": "code",
   "execution_count": null,
   "metadata": {
    "collapsed": true
   },
   "outputs": [],
   "source": []
  },
  {
   "cell_type": "code",
   "execution_count": null,
   "metadata": {
    "collapsed": true
   },
   "outputs": [],
   "source": []
  },
  {
   "cell_type": "code",
   "execution_count": null,
   "metadata": {
    "collapsed": true
   },
   "outputs": [],
   "source": []
  },
  {
   "cell_type": "code",
   "execution_count": 97,
   "metadata": {
    "collapsed": false,
    "deletable": true,
    "editable": true
   },
   "outputs": [
    {
     "name": "stdout",
     "output_type": "stream",
     "text": [
      "[ 0.          0.          0.          0.          0.          0.          0.\n",
      "  0.          0.          0.          0.          9.83056428  2.52572864\n",
      "  3.91202301  0.          0.          0.          0.          0.          0.\n",
      "  0.          0.          0.          0.          0.          0.          0.\n",
      "  0.          0.          0.          0.          0.          0.          0.\n",
      "  0.          0.          0.          0.          0.          0.\n",
      "  6.43775165  0.          0.          0.          0.          0.          0.\n",
      "  0.          0.          0.        ]\n"
     ]
    }
   ],
   "source": [
    "import numpy as np\n",
    "\n",
    "def prof_to_vec(course_info):\n",
    "    prof_course_dict = courses_by_instructors(course_info)\n",
    "    prof_freq = professor_frequency(prof_course_dict)\n",
    "    N = len(prof_freq)\n",
    "    course_dict = {c: i for i, c in enumerate(sorted(list(prof_freq.keys())))}\n",
    "    p2v = {}\n",
    "    \n",
    "    for prof_name, counts in prof_course_dict.items():\n",
    "        vec = np.zeros(len(course_dict))\n",
    "        \n",
    "        for k, v in counts.items():\n",
    "            if k in course_dict:\n",
    "                i = course_dict[k]\n",
    "                vec[i] = v * math.log(N / prof_freq[k])\n",
    "        \n",
    "        p2v[prof_name] = vec\n",
    "    \n",
    "    return p2v\n",
    "\n",
    "p2v = prof_to_vec(course_info)\n",
    "print(p2v[('Choi', 'Jinho D')])"
   ]
  },
  {
   "cell_type": "markdown",
   "metadata": {},
   "source": [
    "Normalize each vector such that the sum of all values in any vector equals to `1`."
   ]
  },
  {
   "cell_type": "code",
   "execution_count": 78,
   "metadata": {
    "collapsed": false
   },
   "outputs": [
    {
     "name": "stdout",
     "output_type": "stream",
     "text": [
      "[ 0.          0.          0.          0.          0.          0.          0.\n",
      "  0.          0.          0.          0.          0.43294878  0.11123585\n",
      "  0.17228976  0.          0.          0.          0.          0.          0.\n",
      "  0.          0.          0.          0.          0.          0.          0.\n",
      "  0.          0.          0.          0.          0.          0.          0.\n",
      "  0.          0.          0.          0.          0.          0.\n",
      "  0.28352561  0.          0.          0.          0.          0.          0.\n",
      "  0.          0.          0.        ]\n"
     ]
    }
   ],
   "source": [
    "def prof_to_vec(course_info, normalize=True, include_research=False):\n",
    "    prof_course_dict = courses_by_instructors(course_info, include_research)\n",
    "    prof_freq = professor_frequency(prof_course_dict)\n",
    "    N = len(prof_freq)\n",
    "    course_dict = {c: i for i, c in enumerate(sorted(list(prof_freq.keys())))}\n",
    "    p2v = {}\n",
    "    \n",
    "    for prof_name, counts in prof_course_dict.items():\n",
    "        vec = np.zeros(len(course_dict))\n",
    "        \n",
    "        for k, v in counts.items():\n",
    "            if k in course_dict:\n",
    "                i = course_dict[k]\n",
    "                vec[i] = v * math.log(N / prof_freq[k])\n",
    "        \n",
    "        if normalize: vec /= sum(vec)\n",
    "        p2v[prof_name] = vec\n",
    "    \n",
    "    return p2v\n",
    "\n",
    "p2v = prof_to_vec(course_info)\n",
    "print(p2v[('Choi', 'Jinho D')])"
   ]
  },
  {
   "cell_type": "markdown",
   "metadata": {},
   "source": [
    "## Dimensionality Reduction\n",
    "\n",
    "Create a 2D numpy array where each row represents the vector of a professor."
   ]
  },
  {
   "cell_type": "code",
   "execution_count": 79,
   "metadata": {
    "collapsed": true
   },
   "outputs": [],
   "source": [
    "profs = sorted(p2v.keys())\n",
    "vectors = np.array([p2v[p] for p in profs])"
   ]
  },
  {
   "cell_type": "markdown",
   "metadata": {},
   "source": [
    "Perform [Principle Component Analysis (PCA)](https://en.wikipedia.org/wiki/Principal_component_analysis) to reduce dimensionality of these vectors using [sklearn.decomposition.PCA](http://scikit-learn.org/stable/modules/generated/sklearn.decomposition.PCA.html)."
   ]
  },
  {
   "cell_type": "code",
   "execution_count": 80,
   "metadata": {
    "collapsed": false
   },
   "outputs": [
    {
     "data": {
      "image/png": "[encoded data removed]",
      "text/plain": [
       "<matplotlib.figure.Figure at 0x105f16278>"
      ]
     },
     "metadata": {},
     "output_type": "display_data"
    }
   ],
   "source": [
    "from sklearn.decomposition import PCA\n",
    "\n",
    "xy = PCA(n_components=2).fit_transform(vectors)\n",
    "fig, ax = plt.subplots()\n",
    "ax.scatter(xy[:,0], xy[:,1])\n",
    "plt.show()"
   ]
  },
  {
   "cell_type": "markdown",
   "metadata": {},
   "source": [
    "Perform [t-distributed Stochastic Neighbor Embedding (t-SNE](https://en.wikipedia.org/wiki/T-distributed_stochastic_neighbor_embedding), another method for dimensionality reduction, using [sklearn.manifold.TSNE](http://scikit-learn.org/stable/modules/generated/sklearn.manifold.TSNE.html)."
   ]
  },
  {
   "cell_type": "code",
   "execution_count": 88,
   "metadata": {
    "collapsed": false
   },
   "outputs": [
    {
     "data": {
      "image/png": "[encoded data removed]",
      "text/plain": [
       "<matplotlib.figure.Figure at 0x10d7ded30>"
      ]
     },
     "metadata": {},
     "output_type": "display_data"
    }
   ],
   "source": [
    "from sklearn.manifold import TSNE\n",
    "\n",
    "xy = TSNE(n_components=2).fit_transform(vectors)\n",
    "fig, ax = plt.subplots()\n",
    "ax.scatter(xy[:,0], xy[:,1])\n",
    "plt.show()"
   ]
  },
  {
   "cell_type": "code",
   "execution_count": 89,
   "metadata": {
    "collapsed": false
   },
   "outputs": [
    {
     "data": {
      "image/png": "[encoded data removed]",
      "text/plain": [
       "<matplotlib.figure.Figure at 0x10d7f0748>"
      ]
     },
     "metadata": {},
     "output_type": "display_data"
    }
   ],
   "source": [
    "fig, ax = plt.subplots()\n",
    "fig.set_size_inches(14, 10)\n",
    "\n",
    "x = xy[:,0]\n",
    "y = xy[:,1]\n",
    "ax.scatter(x, y)\n",
    "\n",
    "for i, p in enumerate(profs):\n",
    "    ax.annotate(p[0], (x[i], y[i]))\n",
    "    \n",
    "plt.show()"
   ]
  },
  {
   "cell_type": "markdown",
   "metadata": {},
   "source": [
    "## Similarity Measurement\n",
    "\n",
    "* [Euclidean distance](https://en.wikipedia.org/wiki/Euclidean_distance): $\\lVert \\mathrm{x} - \\mathrm{y} \\rVert$\n",
    "* [Cosine similarity](https://en.wikipedia.org/wiki/Cosine_similarity): $\\frac{\\mathrm{x} \\cdot \\mathrm{y}}{\\lVert\\mathrm{x}\\rVert \\lVert\\mathrm{y}\\rVert}$\n",
    "\n",
    "### Exercise\n",
    "\n",
    "```\n",
    "def euclidean(x, y):\n",
    "    \"\"\"\n",
    "    :param x a numpy array\n",
    "    :param y a numpy array\n",
    "    :return: the euclidean distance between x and y.\n",
    "    \"\"\"\n",
    "\n",
    "def cosine(x, y):\n",
    "    \"\"\"\n",
    "    :param x a numpy array\n",
    "    :param y a numpy array\n",
    "    :return: the cosine similarity between x and y.\n",
    "    \"\"\"\n",
    "```"
   ]
  },
  {
   "cell_type": "code",
   "execution_count": 92,
   "metadata": {
    "collapsed": false
   },
   "outputs": [],
   "source": [
    "import math\n",
    "\n",
    "def euclidean(x, y):\n",
    "    return math.sqrt(sum((x - y)**2))\n",
    "\n",
    "def cosine(x, y):\n",
    "    return np.dot(x, y) / (math.sqrt(np.dot(x, x)) * math.sqrt(np.dot(y, y)))\n",
    "\n",
    "def ranked_list(profs, vectors, sim):\n",
    "    d = {}\n",
    "    for i, pi in enumerate(profs):\n",
    "        dists = [(pj, sim(vectors[i], vectors[j])) for j, pj in enumerate(profs) if i != j]\n",
    "        d[pi] = sorted(dists, key=lambda x: x[1], reverse=True)\n",
    "    return d"
   ]
  },
  {
   "cell_type": "code",
   "execution_count": 93,
   "metadata": {
    "collapsed": false
   },
   "outputs": [
    {
     "name": "stdout",
     "output_type": "stream",
     "text": [
      "                  ('Yuan', 'Shuai'): 56.3393\n",
      "                 ('Bonomi', 'Luca'): 55.1903\n",
      "              ('Poovey', 'Jason A'): 54.3438\n",
      "      ('Vaughn', 'Christopher Lee'): 51.6721\n",
      "                     ('Wang', 'Yu'): 51.4713\n",
      "       ('Solomon', 'Michael Glenn'): 51.1822\n",
      "             ('Pournajaf', 'Layla'): 50.6267\n",
      "       ('Garcia Ulloa', 'Daniel A'): 48.8887\n",
      "           ('Berisha', 'Sebastian'): 47.5068\n",
      "              ('Savenkov', 'Denis'): 47.3443\n"
     ]
    }
   ],
   "source": [
    "ranks = ranked_list(profs, xy, euclidean)\n",
    "\n",
    "for prof, dist in ranks[('Choi', 'Jinho D')][:10]:\n",
    "    print('%35s: %6.4f' % (prof, dist))"
   ]
  },
  {
   "cell_type": "code",
   "execution_count": 94,
   "metadata": {
    "collapsed": false
   },
   "outputs": [
    {
     "name": "stdout",
     "output_type": "stream",
     "text": [
      "              ('Parekh', 'Ojas D.'): 0.9996\n",
      "         ('Grigni', 'Michelangelo'): 0.9940\n",
      "               ('Arnold', 'Dorian'): 0.9918\n",
      "               ('Aji', 'Abulimiti'): 0.9834\n",
      "('Slawinski', 'Jaroslaw Kazimierz'): 0.9681\n",
      "                ('Xiao', 'Yonghui'): 0.9618\n",
      "    ('Agichtein', 'Yevgeny Eugene'): 0.9557\n",
      "               ('Fossati', 'David'): 0.9549\n",
      "                ('Gunay', 'Cengiz'): 0.9447\n",
      "          ('Taylor', 'James Peter'): 0.9423\n"
     ]
    }
   ],
   "source": [
    "ranks = ranked_list(profs, xy, cosine)\n",
    "\n",
    "for prof, dist in ranks[('Choi', 'Jinho D')][:10]:\n",
    "    print('%35s: %6.4f' % (prof, dist))"
   ]
  },
  {
   "cell_type": "code",
   "execution_count": null,
   "metadata": {
    "collapsed": true
   },
   "outputs": [],
   "source": []
  }
 ],
 "metadata": {
  "kernelspec": {
   "display_name": "Python 3",
   "language": "python",
   "name": "python3"
  },
  "language_info": {
   "codemirror_mode": {
    "name": "ipython",
    "version": 3
   },
   "file_extension": ".py",
   "mimetype": "text/x-python",
   "name": "python",
   "nbconvert_exporter": "python",
   "pygments_lexer": "ipython3",
   "version": "3.6.0"
  }
 },
 "nbformat": 4,
 "nbformat_minor": 2
}
