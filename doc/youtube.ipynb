{
 "cells": [
  {
   "cell_type": "markdown",
   "metadata": {
    "deletable": true,
    "editable": true
   },
   "source": [
    "# YouTube Analysis"
   ]
  },
  {
   "cell_type": "markdown",
   "metadata": {
    "deletable": true,
    "editable": true
   },
   "source": [
    "## Google APIs\n",
    "\n",
    "* Create a [Google Cloud Project](https://console.developers.google.com/cloud-resource-manager), and save the **project ID**.\n",
    "* Click the Google APIs logo at the top-left corner.\n",
    "* Click \"Library\" on the left menu, search for \"YouTube Data API v3\", and enable it.\n",
    "* Click \"Credentials\" on the left menu and create an \"OAuth 2.0 client ID\" where the application type is \"Other\".\n",
    "* Click the client ID you just created and save the **client ID** and the **client secret**."
   ]
  },
  {
   "cell_type": "markdown",
   "metadata": {
    "deletable": true,
    "editable": true
   },
   "source": [
    "## Authentication\n",
    "\n",
    "Create `client_secrets.json` using your project ID, client ID, and client secret:\n",
    "\n",
    "```json\n",
    "{\n",
    "  \"installed\": {\n",
    "    \"project_id\":\"your_project_id\",\n",
    "    \"client_id\":\"your_client_id\",\n",
    "    \"client_secret\":\"your_client_secret\",\n",
    "    \"auth_uri\":\"https://accounts.google.com/o/oauth2/auth\",\n",
    "    \"token_uri\":\"https://accounts.google.com/o/oauth2/token\",\n",
    "    \"redirect_uris\":[\"urn:ietf:wg:oauth:2.0:oob\",\"http://localhost\"],\n",
    "    \"auth_provider_x509_cert_url\":\"https://www.googleapis.com/oauth2/v1/certs\"\n",
    "  }\n",
    "}\n",
    "```"
   ]
  },
  {
   "cell_type": "code",
   "execution_count": 1,
   "metadata": {
    "collapsed": false,
    "deletable": true,
    "editable": true
   },
   "outputs": [],
   "source": [
    "!pip install google-auth-httplib2\n",
    "!pip install google-auth-oauthlib\n",
    "!pip install google-api-python-client\n",
    "\n",
    "from google_auth_oauthlib.flow import InstalledAppFlow\n",
    "from googleapiclient.discovery import build\n",
    "\n",
    "CLIENT_SECRETS_FILE = \"src/client_secrets.json\"\n",
    "SCOPES = ['https://www.googleapis.com/auth/youtube.force-ssl']\n",
    "API_SERVICE_NAME = 'youtube'\n",
    "API_VERSION = 'v3'\n",
    "\n",
    "def get_authenticated_service():\n",
    "    flow = InstalledAppFlow.from_client_secrets_file(CLIENT_SECRETS_FILE, SCOPES)\n",
    "    credentials = flow.run_console()\n",
    "    return build(API_SERVICE_NAME, API_VERSION, credentials=credentials)"
   ]
  },
  {
   "cell_type": "markdown",
   "metadata": {
    "deletable": true,
    "editable": true
   },
   "source": [
    "## Comments per Video\n",
    "\n",
    "https://developers.google.com/youtube/v3/docs/commentThreads/list"
   ]
  },
  {
   "cell_type": "code",
   "execution_count": 3,
   "metadata": {
    "collapsed": true,
    "deletable": true,
    "editable": true
   },
   "outputs": [],
   "source": [
    "def remove_empty_kwargs(**kwargs):\n",
    "    return {k: v for k, v in kwargs.items() if v} if kwargs is not None else kwargs\n",
    "\n",
    "def comment_threads_list_by_video_id(client, **kwargs):\n",
    "    kwargs = remove_empty_kwargs(**kwargs)\n",
    "    response = client.commentThreads().list(**kwargs).execute()\n",
    "    return response"
   ]
  },
  {
   "cell_type": "code",
   "execution_count": 29,
   "metadata": {
    "collapsed": false,
    "deletable": true,
    "editable": true
   },
   "outputs": [],
   "source": [
    "import json\n",
    "import os\n",
    "\n",
    "os.environ['OAUTHLIB_INSECURE_TRANSPORT'] = '0'\n",
    "client = get_authenticated_service()\n",
    "\n",
    "response = comment_threads_list_by_video_id(\n",
    "    client,\n",
    "    videoId='eWnOU6CAvE0',\n",
    "    part='snippet,replies',\n",
    "    maxResults=100)\n",
    "\n",
    "out_file = 'youtube-video.json'\n",
    "\n",
    "with open(out_file, 'w') as fout:\n",
    "    json.dump(response, fout, indent=2)"
   ]
  },
  {
   "cell_type": "code",
   "execution_count": 22,
   "metadata": {
    "collapsed": false
   },
   "outputs": [
    {
     "name": "stdout",
     "output_type": "stream",
     "text": [
      "dict_keys(['kind', 'etag', 'nextPageToken', 'pageInfo', 'items'])\n"
     ]
    }
   ],
   "source": [
    "print(response.keys())"
   ]
  },
  {
   "cell_type": "markdown",
   "metadata": {},
   "source": [
    "## Exercise\n",
    "\n",
    "The above code retrieves only the most recent 100 comments.\n",
    "Write a function that retrieves all comments from the specific video by adding the `pageToken` field to `kwargs` using the `nextPageToken` field in the `response`."
   ]
  },
  {
   "cell_type": "code",
   "execution_count": null,
   "metadata": {
    "collapsed": true
   },
   "outputs": [],
   "source": []
  },
  {
   "cell_type": "code",
   "execution_count": null,
   "metadata": {
    "collapsed": true
   },
   "outputs": [],
   "source": []
  },
  {
   "cell_type": "code",
   "execution_count": null,
   "metadata": {
    "collapsed": true
   },
   "outputs": [],
   "source": []
  },
  {
   "cell_type": "code",
   "execution_count": null,
   "metadata": {
    "collapsed": true
   },
   "outputs": [],
   "source": []
  },
  {
   "cell_type": "code",
   "execution_count": null,
   "metadata": {
    "collapsed": true
   },
   "outputs": [],
   "source": []
  },
  {
   "cell_type": "code",
   "execution_count": 26,
   "metadata": {
    "collapsed": true
   },
   "outputs": [],
   "source": [
    "def comment_items_by_video_id(client, **kwargs):\n",
    "    kwargs = remove_empty_kwargs(**kwargs)\n",
    "    response = client.commentThreads().list(**kwargs).execute()\n",
    "    items = response['items']\n",
    "    \n",
    "    while 'nextPageToken' in response:\n",
    "        kwargs['pageToken'] = response['nextPageToken']\n",
    "        response = client.commentThreads().list(**kwargs).execute()\n",
    "        items.extend(response['items'])\n",
    "    \n",
    "    return items"
   ]
  },
  {
   "cell_type": "code",
   "execution_count": 27,
   "metadata": {
    "collapsed": false
   },
   "outputs": [],
   "source": [
    "import datetime\n",
    "\n",
    "video_id = 'eWnOU6CAvE0'\n",
    "\n",
    "items = comment_items_by_video_id(\n",
    "    client,\n",
    "    videoId=video_id,\n",
    "    part='snippet,replies',\n",
    "    maxResults=100)\n",
    "\n",
    "time = datetime.datetime.now().strftime('-%Y-%m-%d-%H-%M-%S')\n",
    "out_file = video_id + time + '.json'\n",
    "\n",
    "with open(out_file, 'w') as fout:\n",
    "    json.dump(items, fout, indent=2)"
   ]
  },
  {
   "cell_type": "code",
   "execution_count": 28,
   "metadata": {
    "collapsed": false
   },
   "outputs": [
    {
     "name": "stdout",
     "output_type": "stream",
     "text": [
      "305\n"
     ]
    }
   ],
   "source": [
    "print(len(items))"
   ]
  },
  {
   "cell_type": "markdown",
   "metadata": {},
   "source": [
    "## Exercise\n",
    "\n",
    "The JSON file saved by the above code includes lots of meta information.\n",
    "Write a function that extracts only comments (including replies) in text using the `textOriginal` field.\n",
    "Note that YouTube currently supports replies only for top-level comments as indicated in their [documentation](https://developers.google.com/youtube/v3/docs/comments/list)."
   ]
  },
  {
   "cell_type": "code",
   "execution_count": null,
   "metadata": {
    "collapsed": true
   },
   "outputs": [],
   "source": []
  },
  {
   "cell_type": "code",
   "execution_count": null,
   "metadata": {
    "collapsed": true
   },
   "outputs": [],
   "source": []
  },
  {
   "cell_type": "code",
   "execution_count": null,
   "metadata": {
    "collapsed": true
   },
   "outputs": [],
   "source": []
  },
  {
   "cell_type": "code",
   "execution_count": null,
   "metadata": {
    "collapsed": true
   },
   "outputs": [],
   "source": []
  },
  {
   "cell_type": "code",
   "execution_count": null,
   "metadata": {
    "collapsed": true
   },
   "outputs": [],
   "source": []
  },
  {
   "cell_type": "code",
   "execution_count": 68,
   "metadata": {
    "collapsed": true
   },
   "outputs": [],
   "source": [
    "def extract_comments(items):\n",
    "    texts = []\n",
    "    for item in items:\n",
    "        text = item['snippet']['topLevelComment']['snippet']['textOriginal'].strip()\n",
    "        if text: texts.append(text)\n",
    "        \n",
    "        if 'replies' in item:\n",
    "            for comment in item['replies']['comments']:\n",
    "                text = comment['snippet']['textOriginal'].strip()\n",
    "                if text: texts.append(text)\n",
    "\n",
    "    return texts"
   ]
  },
  {
   "cell_type": "code",
   "execution_count": 76,
   "metadata": {
    "collapsed": false
   },
   "outputs": [],
   "source": [
    "items = json.load(open(out_file))\n",
    "texts = extract_comments(items)\n",
    "\n",
    "with open(out_file+'.txt', 'w') as fout:\n",
    "    for i, text in enumerate(texts):\n",
    "        fout.write('# comment_id=%d\\n' % i)\n",
    "        fout.write(text+'\\n')"
   ]
  },
  {
   "cell_type": "code",
   "execution_count": 77,
   "metadata": {
    "collapsed": false
   },
   "outputs": [
    {
     "name": "stdout",
     "output_type": "stream",
     "text": [
      "445\n"
     ]
    }
   ],
   "source": [
    "print(len(texts))"
   ]
  },
  {
   "cell_type": "markdown",
   "metadata": {
    "deletable": true,
    "editable": true
   },
   "source": [
    "## Comments per Channel\n",
    "\n",
    "https://developers.google.com/youtube/v3/docs/search/list"
   ]
  },
  {
   "cell_type": "code",
   "execution_count": 80,
   "metadata": {
    "collapsed": true,
    "deletable": true,
    "editable": true
   },
   "outputs": [],
   "source": [
    "def channel_items(client, **kwargs):\n",
    "    kwargs = remove_empty_kwargs(**kwargs)\n",
    "    response = client.search().list(**kwargs).execute()\n",
    "    items = response['items']\n",
    "    \n",
    "    while 'nextPageToken' in response:\n",
    "        kwargs['pageToken'] = response['nextPageToken']\n",
    "        response = client.search().list(**kwargs).execute()\n",
    "        items.extend(response['items'])\n",
    "        \n",
    "    return items"
   ]
  },
  {
   "cell_type": "code",
   "execution_count": 81,
   "metadata": {
    "collapsed": false,
    "deletable": true,
    "editable": true
   },
   "outputs": [],
   "source": [
    "channel_id = 'UCVSSpcmZD2PwPBqb8yKQKBA'\n",
    "\n",
    "items = channel_items(\n",
    "    client,\n",
    "    part='snippet',\n",
    "    channelId=channel_id,\n",
    "    order='date',\n",
    "    publishedAfter='2018-04-01T00:00:00Z',\n",
    "    safeSearch='none',\n",
    "    type='video',\n",
    "    maxResults=50)\n",
    "\n",
    "out_file = channel_id + '.json'\n",
    "\n",
    "with open(out_file, 'w') as fout:\n",
    "    json.dump(items, fout, indent=2)"
   ]
  },
  {
   "cell_type": "code",
   "execution_count": 83,
   "metadata": {
    "collapsed": false
   },
   "outputs": [
    {
     "name": "stdout",
     "output_type": "stream",
     "text": [
      "116\n"
     ]
    }
   ],
   "source": [
    "print(len(items))"
   ]
  },
  {
   "cell_type": "markdown",
   "metadata": {
    "deletable": true,
    "editable": true
   },
   "source": [
    "## Exercise\n",
    "\n",
    "Write a function that creats a list of dictionaries, where each dictionary consists of the following information from every video in the channel:\n",
    "\n",
    "* `videoId`\n",
    "* `title`\n",
    "* `description`\n",
    "* `comments`: comment items from the specific video."
   ]
  },
  {
   "cell_type": "code",
   "execution_count": null,
   "metadata": {
    "collapsed": true,
    "deletable": true,
    "editable": true
   },
   "outputs": [],
   "source": []
  },
  {
   "cell_type": "code",
   "execution_count": null,
   "metadata": {
    "collapsed": true,
    "deletable": true,
    "editable": true
   },
   "outputs": [],
   "source": []
  },
  {
   "cell_type": "code",
   "execution_count": null,
   "metadata": {
    "collapsed": true,
    "deletable": true,
    "editable": true
   },
   "outputs": [],
   "source": []
  },
  {
   "cell_type": "code",
   "execution_count": null,
   "metadata": {
    "collapsed": true,
    "deletable": true,
    "editable": true
   },
   "outputs": [],
   "source": []
  },
  {
   "cell_type": "code",
   "execution_count": null,
   "metadata": {
    "collapsed": true,
    "deletable": true,
    "editable": true
   },
   "outputs": [],
   "source": []
  },
  {
   "cell_type": "code",
   "execution_count": 96,
   "metadata": {
    "collapsed": false,
    "deletable": true,
    "editable": true
   },
   "outputs": [],
   "source": [
    "def channel_comments(client, **kwargs):\n",
    "    c_items = channel_items(client, **kwargs)\n",
    "    data = []\n",
    "\n",
    "    for c_item in c_items:\n",
    "        videoId = c_item['id']['videoId']\n",
    "        snippet = c_item['snippet']\n",
    "        title = snippet['title']\n",
    "        description = snippet['description']\n",
    "        print(title)\n",
    "        \n",
    "        items = comment_items_by_video_id(\n",
    "            client,\n",
    "            videoId=video_id,\n",
    "            part='snippet,replies',\n",
    "            maxResults=100)\n",
    "        data.append({'title':title, 'description':description, 'comments': items})\n",
    "    \n",
    "    return data"
   ]
  },
  {
   "cell_type": "code",
   "execution_count": 97,
   "metadata": {
    "collapsed": false,
    "deletable": true,
    "editable": true
   },
   "outputs": [
    {
     "name": "stdout",
     "output_type": "stream",
     "text": [
      "[FULL] Alvin Gentry on Jrue Holiday: Show me a better two-way player in the league | NBA on ESPN\n",
      "[FULL] Terry Stotts on being down 0-2: 'We're very capable of winning' the next two | NBA on ESPN\n",
      "[FULL] Jaylen Brown after Celtics' Game 2 win: 'We just keep proving people wrong' | NBA on ESPN\n",
      "[FULL] Giannis Antetokounmpo on Bucks' Game 2 loss: 'We didn't show up tonight' | NBA on ESPN\n",
      "[FULL] Brad Stevens on Jaylen Brown's 30-point game: 'Jaylen loves the moment' | NBA on ESPN\n",
      "[FULL] Kelly Oubre Jr. responds to Drake's trash talk: 'That's my guy, though' | NBA on ESPN\n",
      "[FULL] John Wall after Game 2 loss: We're 'desperate, but we have a lot of confidence' | NBA on ESPN\n",
      "[FULL] Kyle Lowry and DeMar DeRozan's great banter during Game 2 news conference | NBA on ESPN\n",
      "[FULL] Scott Brooks after DeMar DeRozan's 37 points: 'A great player making plays' | NBA on ESPN\n",
      "Kevin Love on Game 1 loss: 'Sometimes you need to get hit in the mouth' | NBA on ESPN\n",
      "[FULL] Gregg Popovich on loss to Warriors: 'I don't put adjectives on losses' | NBA on ESPN\n",
      "[FULL] Brett Brown on Heat win: 'Dwyane Wade offensively was just vintage Dwyane Wade' | NBA on ESPN\n",
      "[FULL] Heat coach Erik Spoelstra: 'I saw moments, and that's what defines Dwyane Wade' | NBA on ESPN\n",
      "[FULL] Ben Simmons on Game 2: 'I hate this feeling, but maybe it's a good reminder' | NBA on ESPN\n",
      "Spurs' Danny Green on NBA referees: Sometimes as players we forget they're human too | NBA on ESPN\n",
      "Giannis Antetokounmpo encouraged by Bucks taking Celtics to overtime in Game 1 | NBA on ESPN\n",
      "[FULL] Draymond on his defense: 'I don't feel like I was where I'm capable of being' | NBA on ESPN\n",
      "[FULL] Tyronn Lue on LeBron James: 'He has to be aggressive and set the tone early' | NBA on ESPN\n"
     ]
    }
   ],
   "source": [
    "channel_id = 'UCVSSpcmZD2PwPBqb8yKQKBA'\n",
    "\n",
    "data = channel_comments(\n",
    "    client,\n",
    "    part='snippet',\n",
    "    channelId=channel_id,\n",
    "    order='date',\n",
    "    publishedAfter='2018-04-17T00:00:00Z',\n",
    "    safeSearch='none',\n",
    "    type='video',\n",
    "    maxResults=50)\n",
    "\n",
    "time = datetime.datetime.now().strftime('-%Y-%m-%d-%H-%M-%S')\n",
    "out_file = channel_id + time + '.json'\n",
    "\n",
    "with open(out_file, 'w') as fout:\n",
    "    json.dump(data, fout, indent=2)"
   ]
  },
  {
   "cell_type": "code",
   "execution_count": null,
   "metadata": {
    "collapsed": true
   },
   "outputs": [],
   "source": []
  }
 ],
 "metadata": {
  "kernelspec": {
   "display_name": "Python 3",
   "language": "python",
   "name": "python3"
  },
  "language_info": {
   "codemirror_mode": {
    "name": "ipython",
    "version": 3
   },
   "file_extension": ".py",
   "mimetype": "text/x-python",
   "name": "python",
   "nbconvert_exporter": "python",
   "pygments_lexer": "ipython3",
   "version": "3.6.0"
  }
 },
 "nbformat": 4,
 "nbformat_minor": 2
}
