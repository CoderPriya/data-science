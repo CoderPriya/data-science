{
 "cells": [
  {
   "cell_type": "markdown",
   "metadata": {},
   "source": [
    "# Data Visualization"
   ]
  },
  {
   "cell_type": "markdown",
   "metadata": {},
   "source": [
    "Load institute information from [us_institutes.tsv](https://github.com/elitcloud/nlp-ranking/blob/master/dat/us_institutes.tsv):"
   ]
  },
  {
   "cell_type": "code",
   "execution_count": 12,
   "metadata": {
    "collapsed": true
   },
   "outputs": [],
   "source": [
    "from types import SimpleNamespace\n",
    "\n",
    "def load_institutes(institute_file):\n",
    "    fin = open(institute_file)\n",
    "    d = {}\n",
    "\n",
    "    for line in fin:\n",
    "        l = list(map(str.strip, line.split('\\t')))\n",
    "        d[l[1]] = SimpleNamespace(name=l[0], url=l[1], city=l[2], state=l[3], score=0.0)\n",
    "\n",
    "    fin.close()\n",
    "    return d"
   ]
  },
  {
   "cell_type": "code",
   "execution_count": 13,
   "metadata": {
    "collapsed": false
   },
   "outputs": [
    {
     "name": "stdout",
     "output_type": "stream",
     "text": [
      "1925\n"
     ]
    }
   ],
   "source": [
    "INSTITUTE_FILE = '/Users/jdchoi/Git/nlp-ranking/dat/us_institutes.tsv'\n",
    "inst_map = load_institutes(INSTITUTE_FILE)\n",
    "print(len(inst_map))"
   ]
  },
  {
   "cell_type": "markdown",
   "metadata": {},
   "source": [
    "Load (institute, score) pairs from [email_map.tsv](https://github.com/elitcloud/nlp-ranking/blob/master/dat/email_map.tsv):\n",
    "\n",
    "### Exercise\n",
    "\n",
    "```python\n",
    "def load_scores(email_file):\n",
    "    \"\"\"\n",
    "    :param email_file: email_map.tsv. \n",
    "    :return: a dictionary whose key is the publication ID and the value is the list of (domain, score) pairs.\n",
    "    \"\"\"\n",
    "```"
   ]
  },
  {
   "cell_type": "code",
   "execution_count": null,
   "metadata": {
    "collapsed": true
   },
   "outputs": [],
   "source": []
  },
  {
   "cell_type": "code",
   "execution_count": null,
   "metadata": {
    "collapsed": true
   },
   "outputs": [],
   "source": []
  },
  {
   "cell_type": "code",
   "execution_count": null,
   "metadata": {
    "collapsed": true
   },
   "outputs": [],
   "source": []
  },
  {
   "cell_type": "code",
   "execution_count": null,
   "metadata": {
    "collapsed": true
   },
   "outputs": [],
   "source": []
  },
  {
   "cell_type": "code",
   "execution_count": null,
   "metadata": {
    "collapsed": true
   },
   "outputs": [],
   "source": []
  },
  {
   "cell_type": "code",
   "execution_count": 14,
   "metadata": {
    "collapsed": true
   },
   "outputs": [],
   "source": [
    "def load_scores(email_file):\n",
    "    fin = open(email_file)\n",
    "    d = {}\n",
    "\n",
    "    for line in fin:\n",
    "        l = list(map(str.strip, line.split('\\t')))\n",
    "        if l[-1] != '_':\n",
    "            scores = []\n",
    "            d[l[0]] = scores\n",
    "            for s in l[-1].split(';'):\n",
    "                t = s.split(':')\n",
    "                scores.append((t[0], float(t[1])))\n",
    "\n",
    "    fin.close()\n",
    "    return d"
   ]
  },
  {
   "cell_type": "code",
   "execution_count": 15,
   "metadata": {
    "collapsed": false
   },
   "outputs": [
    {
     "name": "stdout",
     "output_type": "stream",
     "text": [
      "15412\n"
     ]
    }
   ],
   "source": [
    "EMAIL_FILE = '/Users/jdchoi/Git/nlp-ranking/dat/email_map.tsv'\n",
    "score_map = load_scores(EMAIL_FILE)\n",
    "print(len(score_map))"
   ]
  },
  {
   "cell_type": "markdown",
   "metadata": {},
   "source": [
    "Given `inst_map` and `score_map`, measure the total score of each institute:\n",
    "\n",
    "### Exercise\n",
    "\n",
    "```python\n",
    "def measure_scores(inst_map, score_map):\n",
    "    \"\"\"\n",
    "    :param inst_map: the output of load_institutes().\n",
    "    :param score_map: the output of load_scores().\n",
    "    :return: a list of institute namespaces where the score field contains the total score of that institute from their publications. \n",
    "    \"\"\"\n",
    "```"
   ]
  },
  {
   "cell_type": "code",
   "execution_count": null,
   "metadata": {
    "collapsed": true
   },
   "outputs": [],
   "source": []
  },
  {
   "cell_type": "code",
   "execution_count": null,
   "metadata": {
    "collapsed": true
   },
   "outputs": [],
   "source": []
  },
  {
   "cell_type": "code",
   "execution_count": null,
   "metadata": {
    "collapsed": true
   },
   "outputs": [],
   "source": []
  },
  {
   "cell_type": "code",
   "execution_count": null,
   "metadata": {
    "collapsed": true
   },
   "outputs": [],
   "source": []
  },
  {
   "cell_type": "code",
   "execution_count": null,
   "metadata": {
    "collapsed": true
   },
   "outputs": [],
   "source": []
  },
  {
   "cell_type": "code",
   "execution_count": 16,
   "metadata": {
    "collapsed": true
   },
   "outputs": [],
   "source": [
    "def measure_scores(inst_map, score_map):\n",
    "    for pub_id, v in score_map.items():\n",
    "        for domain, score in v:\n",
    "            d = domain.split('.')\n",
    "            for i in range(len(d)-2, -1, -1):\n",
    "                uid = '.'.join(d[i:])\n",
    "                if uid in inst_map:\n",
    "                    inst_map[uid].score += score\n",
    "                    break\n",
    "\n",
    "    return [inst for url, inst in inst_map.items() if inst.score > 0.0]"
   ]
  },
  {
   "cell_type": "code",
   "execution_count": 17,
   "metadata": {
    "collapsed": false
   },
   "outputs": [
    {
     "name": "stdout",
     "output_type": "stream",
     "text": [
      "194\n"
     ]
    }
   ],
   "source": [
    "inst_scores = measure_scores(inst_map, score_map)\n",
    "print(len(inst_scores))"
   ]
  },
  {
   "cell_type": "markdown",
   "metadata": {},
   "source": [
    "Measure scores by states:\n",
    "\n",
    "### Exercise\n",
    "\n",
    "```python\n",
    "def measure_state_scores(inst_scores):\n",
    "    \"\"\"\n",
    "    :param inst_scores: the output of measure_scores().\n",
    "    :return: a dictionary where the key is the State ID and the value is the total score of that state w.r.t. their publications.\n",
    "    \"\"\"\n",
    "```"
   ]
  },
  {
   "cell_type": "code",
   "execution_count": null,
   "metadata": {
    "collapsed": true
   },
   "outputs": [],
   "source": []
  },
  {
   "cell_type": "code",
   "execution_count": null,
   "metadata": {
    "collapsed": true
   },
   "outputs": [],
   "source": []
  },
  {
   "cell_type": "code",
   "execution_count": null,
   "metadata": {
    "collapsed": true
   },
   "outputs": [],
   "source": []
  },
  {
   "cell_type": "code",
   "execution_count": null,
   "metadata": {
    "collapsed": true
   },
   "outputs": [],
   "source": []
  },
  {
   "cell_type": "code",
   "execution_count": null,
   "metadata": {
    "collapsed": true
   },
   "outputs": [],
   "source": []
  },
  {
   "cell_type": "code",
   "execution_count": 18,
   "metadata": {
    "collapsed": true
   },
   "outputs": [],
   "source": [
    "def measure_state_scores(inst_scores):\n",
    "    \"\"\"\n",
    "    :param inst_scores: the output of measure_scores().\n",
    "    :return: a dictionary where the key is the State ID and the value is the total score of that state w.r.t. their publications.\n",
    "    \"\"\"\n",
    "    states = {}\n",
    "\n",
    "    for inst in inst_scores:\n",
    "        states[inst.state] = states.get(inst.state, 0) + inst.score\n",
    "\n",
    "    return states"
   ]
  },
  {
   "cell_type": "code",
   "execution_count": 20,
   "metadata": {
    "collapsed": false
   },
   "outputs": [
    {
     "name": "stdout",
     "output_type": "stream",
     "text": [
      "['AL', 14.658440],\n",
      "['AZ', 32.661902],\n",
      "['CA', 432.101051],\n",
      "['CO', 89.017857],\n",
      "['CT', 13.933334],\n",
      "['DC', 54.705303],\n",
      "['DE', 25.225000],\n",
      "['FL', 17.666664],\n",
      "['GA', 40.733333],\n",
      "['HI', 2.333333],\n",
      "['IA', 3.650000],\n",
      "['ID', 1.333333],\n",
      "['IL', 186.750252],\n",
      "['IN', 64.154763],\n",
      "['KS', 0.500000],\n",
      "['KY', 1.000000],\n",
      "['LA', 2.533334],\n",
      "['MA', 258.033364],\n",
      "['MD', 268.735340],\n",
      "['MI', 70.363095],\n",
      "['MN', 24.151189],\n",
      "['MO', 2.999999],\n",
      "['NC', 43.504762],\n",
      "['ND', 0.500000],\n",
      "['NE', 2.833333],\n",
      "['NH', 5.083332],\n",
      "['NJ', 33.358330],\n",
      "['NM', 2.000000],\n",
      "['NY', 471.839777],\n",
      "['OH', 52.652378],\n",
      "['OR', 21.564718],\n",
      "['PA', 610.323793],\n",
      "['RI', 24.033333],\n",
      "['SC', 0.500000],\n",
      "['TN', 13.638889],\n",
      "['TX', 219.466294],\n",
      "['UT', 45.733333],\n",
      "['VA', 17.959920],\n",
      "['VT', 2.500000],\n",
      "['WA', 151.955949],\n",
      "['WI', 23.100000],\n"
     ]
    }
   ],
   "source": [
    "state_scores = measure_state_scores(inst_scores)\n",
    "for k, v in sorted(state_scores.items()):\n",
    "    print(\"['%s', %f],\" % (k, v))"
   ]
  },
  {
   "cell_type": "code",
   "execution_count": null,
   "metadata": {
    "collapsed": true
   },
   "outputs": [],
   "source": [
    "Paste the output of `measure_state_scores` to ''"
   ]
  }
 ],
 "metadata": {
  "kernelspec": {
   "display_name": "Python 3",
   "language": "python",
   "name": "python3"
  },
  "language_info": {
   "codemirror_mode": {
    "name": "ipython",
    "version": 3
   },
   "file_extension": ".py",
   "mimetype": "text/x-python",
   "name": "python",
   "nbconvert_exporter": "python",
   "pygments_lexer": "ipython3",
   "version": "3.6.0"
  }
 },
 "nbformat": 4,
 "nbformat_minor": 2
}
