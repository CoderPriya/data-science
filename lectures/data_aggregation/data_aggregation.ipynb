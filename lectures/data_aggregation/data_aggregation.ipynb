{
 "cells": [
  {
   "cell_type": "markdown",
   "metadata": {
    "deletable": true,
    "editable": true,
    "slideshow": {
     "slide_type": "slide"
    }
   },
   "source": [
    "# Data Aggregation\n",
    "\n",
    "The process where information is gathered and presented in a summary form with intent to prepare data for statiatical analysis."
   ]
  },
  {
   "cell_type": "markdown",
   "metadata": {
    "collapsed": true,
    "deletable": true,
    "editable": true,
    "slideshow": {
     "slide_type": "slide"
    }
   },
   "source": [
    "# Exam Scheduler\n",
    "\n",
    "Task: integrate the [exam schedule](http://registrar.emory.edu/faculty-staff/exam-schedule/spring-2019.html) with the [course atlas](http://atlas.college.emory.edu/class-schedules/spring-2019.php)."
   ]
  },
  {
   "cell_type": "markdown",
   "metadata": {
    "deletable": true,
    "editable": true
   },
   "source": [
    "## HTML Parsing\n",
    "\n",
    "Retrieve the HTML source from the exam schedule page:"
   ]
  },
  {
   "cell_type": "code",
   "execution_count": 7,
   "metadata": {
    "collapsed": false,
    "deletable": true,
    "editable": true,
    "slideshow": {
     "slide_type": "slide"
    }
   },
   "outputs": [
    {
     "name": "stdout",
     "output_type": "stream",
     "text": [
      "<!DOCTYPE html><html xmlns=\"http://www.w3.org/1999/xhtml\" lang=\"en\" xml:lang=\"en\">\n"
     ]
    }
   ],
   "source": [
    "import requests\n",
    "\n",
    "url = 'http://registrar.emory.edu/faculty-staff/exam-schedule/spring-2019.html'\n",
    "r = requests.get(url)\n",
    "print(r.text[:82])  # print only the first line"
   ]
  },
  {
   "cell_type": "markdown",
   "metadata": {
    "deletable": true,
    "editable": true
   },
   "source": [
    "Find the table containing the exam schedule information from the source:\n",
    "\n",
    "<img src=\"res/exam-schedule-spring-2019.png\">\n",
    "\n",
    "```html\n",
    "<table cellpadding=\"0\" cellspacing=\"0\" class=\"table table-striped\">\n",
    "<thead>\n",
    "<tr>\n",
    "<td>Class Meeting Time</td>\n",
    "<td>Exam Day</td>\n",
    "<td>Exam Date</td>\n",
    "<td>Exam Time</td>\n",
    "</tr>\n",
    "</thead>\n",
    "<tbody>\n",
    "<tr>\n",
    "<td>08:00 MWF</td>\n",
    "<td>Friday</td>\n",
    "<td>3-May</td>\n",
    "<td>11:30 A.M - 2:00 P.M</td>\n",
    "</tr>\n",
    "<tr>\n",
    "<td>08:00 TThF</td>\n",
    "<td>Friday</td>\n",
    "<td>3-May</td>\n",
    "<td>3:00 P.M - 5:30 P.M</td>\n",
    "</tr>\n",
    "```"
   ]
  },
  {
   "cell_type": "markdown",
   "metadata": {
    "deletable": true,
    "editable": true
   },
   "source": [
    "Retrieve the exam schedule information from the table:"
   ]
  },
  {
   "cell_type": "code",
   "execution_count": 9,
   "metadata": {
    "collapsed": false,
    "deletable": true,
    "editable": true,
    "scrolled": true
   },
   "outputs": [
    {
     "name": "stdout",
     "output_type": "stream",
     "text": [
      "Requirement already satisfied: beautifulsoup4 in /Library/Frameworks/Python.framework/Versions/3.6/lib/python3.6/site-packages (4.6.0)\n",
      "['08:00 MWF', 'Friday', '3-May', '11:30 A.M - 2:00 P.M']\n",
      "['08:00 TThF', 'Friday', '3-May', '3:00 P.M - 5:30 P.M']\n"
     ]
    }
   ],
   "source": [
    "!pip install beautifulsoup4\n",
    "from bs4 import BeautifulSoup\n",
    "\n",
    "html = BeautifulSoup(r.text, 'html.parser')\n",
    "tbody = html.find('tbody')\n",
    "schedule = []\n",
    "\n",
    "for tr in tbody.find_all('tr'):\n",
    "    tds = tr.find_all('td')\n",
    "    class_time = tds[0].string.strip()\n",
    "    exam_day   = tds[1].string.strip()\n",
    "    exam_date  = tds[2].string.strip()\n",
    "    exam_time  = tds[3].string.strip()\n",
    "    schedule.append([class_time, exam_day, exam_date, exam_time])\n",
    "\n",
    "print(schedule[0])\n",
    "print(schedule[1])"
   ]
  },
  {
   "cell_type": "markdown",
   "metadata": {
    "deletable": true,
    "editable": true
   },
   "source": [
    "## Regular Expressions\n",
    "\n",
    "Split each class meeting time into (hour, minute, days):"
   ]
  },
  {
   "cell_type": "code",
   "execution_count": 2,
   "metadata": {
    "collapsed": false,
    "deletable": true,
    "editable": true
   },
   "outputs": [
    {
     "name": "stdout",
     "output_type": "stream",
     "text": [
      "Hour:  8, Minute: 00, Day(s): MW\n",
      "Hour: 12, Minute: 30, Day(s): TThF\n"
     ]
    }
   ],
   "source": [
    "import re\n",
    "\n",
    "TIME_DAYS = re.compile('(\\d{1,2}):(\\d\\d)\\s+([A-Za-z]+)')\n",
    "\n",
    "m = TIME_DAYS.match('8:00 MW')\n",
    "print('Hour: %2s, Minute: %2s, Day(s): %s' % (m.group(1), m.group(2), m.group(3)))\n",
    "\n",
    "m = TIME_DAYS.match('12:30 TThF')\n",
    "print('Hour: %2s, Minute: %2s, Day(s): %s' % (m.group(1), m.group(2), m.group(3)))"
   ]
  },
  {
   "cell_type": "markdown",
   "metadata": {
    "deletable": true,
    "editable": true
   },
   "source": [
    "If the input string does not match the expression, `None` is returned:"
   ]
  },
  {
   "cell_type": "code",
   "execution_count": 3,
   "metadata": {
    "collapsed": false,
    "deletable": true,
    "editable": true
   },
   "outputs": [
    {
     "name": "stdout",
     "output_type": "stream",
     "text": [
      "None\n"
     ]
    },
    {
     "ename": "AttributeError",
     "evalue": "'NoneType' object has no attribute 'groups'",
     "output_type": "error",
     "traceback": [
      "\u001b[0;31m---------------------------------------------------------------------------\u001b[0m",
      "\u001b[0;31mAttributeError\u001b[0m                            Traceback (most recent call last)",
      "\u001b[0;32m<ipython-input-3-dc69fc0248c7>\u001b[0m in \u001b[0;36m<module>\u001b[0;34m()\u001b[0m\n\u001b[1;32m      1\u001b[0m \u001b[0mm\u001b[0m \u001b[0;34m=\u001b[0m \u001b[0mTIME_DAYS\u001b[0m\u001b[0;34m.\u001b[0m\u001b[0mmatch\u001b[0m\u001b[0;34m(\u001b[0m\u001b[0;34m'Math*'\u001b[0m\u001b[0;34m)\u001b[0m\u001b[0;34m\u001b[0m\u001b[0m\n\u001b[1;32m      2\u001b[0m \u001b[0mprint\u001b[0m\u001b[0;34m(\u001b[0m\u001b[0mm\u001b[0m\u001b[0;34m)\u001b[0m\u001b[0;34m\u001b[0m\u001b[0m\n\u001b[0;32m----> 3\u001b[0;31m \u001b[0mprint\u001b[0m\u001b[0;34m(\u001b[0m\u001b[0mm\u001b[0m\u001b[0;34m.\u001b[0m\u001b[0mgroups\u001b[0m\u001b[0;34m(\u001b[0m\u001b[0;34m)\u001b[0m\u001b[0;34m)\u001b[0m\u001b[0;34m\u001b[0m\u001b[0m\n\u001b[0m",
      "\u001b[0;31mAttributeError\u001b[0m: 'NoneType' object has no attribute 'groups'"
     ]
    }
   ],
   "source": [
    "m = TIME_DAYS.match('Math*')\n",
    "print(m)\n",
    "print(m.groups())"
   ]
  },
  {
   "cell_type": "markdown",
   "metadata": {
    "deletable": true,
    "editable": true
   },
   "source": [
    "### Exercise\n",
    "\n",
    "Write a regular expression that handles various ways to indicate time:\n",
    "\n",
    "```python\n",
    "['08:00', '12:30', '2:30pm', '2:30 pm', '2:30PM', '2:30P.M', '2:30P.M.', '2:30 PM.']\n",
    "```"
   ]
  },
  {
   "cell_type": "code",
   "execution_count": null,
   "metadata": {
    "collapsed": true,
    "deletable": true,
    "editable": true
   },
   "outputs": [],
   "source": []
  },
  {
   "cell_type": "code",
   "execution_count": null,
   "metadata": {
    "collapsed": true,
    "deletable": true,
    "editable": true
   },
   "outputs": [],
   "source": []
  },
  {
   "cell_type": "code",
   "execution_count": null,
   "metadata": {
    "collapsed": true,
    "deletable": true,
    "editable": true
   },
   "outputs": [],
   "source": []
  },
  {
   "cell_type": "code",
   "execution_count": null,
   "metadata": {
    "collapsed": true,
    "deletable": true,
    "editable": true
   },
   "outputs": [],
   "source": []
  },
  {
   "cell_type": "code",
   "execution_count": null,
   "metadata": {
    "collapsed": true,
    "deletable": true,
    "editable": true
   },
   "outputs": [],
   "source": []
  },
  {
   "cell_type": "code",
   "execution_count": 5,
   "metadata": {
    "collapsed": false,
    "deletable": true,
    "editable": true
   },
   "outputs": [
    {
     "name": "stdout",
     "output_type": "stream",
     "text": [
      "     08:00 : (08, 00, None)\n",
      "     12:30 : (12, 30, None)\n",
      "    2:30pm : ( 2, 30, pm)\n",
      "   2:30 pm : ( 2, 30, pm)\n",
      "    2:30PM : ( 2, 30, PM)\n",
      "   2:30P.M : ( 2, 30, P.M)\n",
      "  2:30P.M. : ( 2, 30, P.M.)\n",
      "  2:30 PM. : ( 2, 30, PM.)\n"
     ]
    }
   ],
   "source": [
    "times = ['08:00', '12:30', '2:30pm', '2:30 pm', '2:30PM', '2:30P.M', '2:30P.M.', '2:30 PM.']\n",
    "TIME = re.compile('(\\d{1,2}):(\\d\\d)\\s*([AaPp]\\.?\\s*[Mm]\\.?)?')\n",
    "\n",
    "for time in times:\n",
    "    m = TIME.match(time)\n",
    "    hour   = m.group(1)\n",
    "    minute = m.group(2)\n",
    "    period = m.group(3)\n",
    "    print('%10s : (%2s, %2s, %s)' % (time, hour, minute, period))"
   ]
  },
  {
   "cell_type": "markdown",
   "metadata": {
    "deletable": true,
    "editable": true
   },
   "source": [
    "## Normalization\n",
    "\n",
    "Uniform the format of the input data.\n",
    "\n",
    "### Exercise\n",
    "\n",
    "Write a function that converts the above matched results to military time (e.g., `\"3:30 P.M\"` &rarr; `1530`):\n",
    "\n",
    "```python\n",
    "def norm_time(hour: str, minute: str, period: str) -> int:\n",
    "    # TODO: to be updated\n",
    "    return 0\n",
    "```"
   ]
  },
  {
   "cell_type": "code",
   "execution_count": null,
   "metadata": {
    "collapsed": true,
    "deletable": true,
    "editable": true
   },
   "outputs": [],
   "source": []
  },
  {
   "cell_type": "code",
   "execution_count": null,
   "metadata": {
    "collapsed": true,
    "deletable": true,
    "editable": true
   },
   "outputs": [],
   "source": []
  },
  {
   "cell_type": "code",
   "execution_count": null,
   "metadata": {
    "collapsed": true,
    "deletable": true,
    "editable": true
   },
   "outputs": [],
   "source": []
  },
  {
   "cell_type": "code",
   "execution_count": null,
   "metadata": {
    "collapsed": true,
    "deletable": true,
    "editable": true
   },
   "outputs": [],
   "source": []
  },
  {
   "cell_type": "code",
   "execution_count": null,
   "metadata": {
    "collapsed": true,
    "deletable": true,
    "editable": true
   },
   "outputs": [],
   "source": []
  },
  {
   "cell_type": "code",
   "execution_count": 4,
   "metadata": {
    "collapsed": false,
    "deletable": true,
    "editable": true
   },
   "outputs": [],
   "source": [
    "from typing import Optional\n",
    "\n",
    "def norm_time(hour: str, minute: str, period: Optional[str]=None) -> int:\n",
    "    h = int(hour)\n",
    "    m = int(minute)\n",
    "\n",
    "    if period and period[0].upper() == 'P':\n",
    "#     if period:\n",
    "#         if period[0].upper() == 'P':\n",
    "            h += 12\n",
    "\n",
    "    return h * 100 + m"
   ]
  },
  {
   "cell_type": "code",
   "execution_count": 7,
   "metadata": {
    "collapsed": false,
    "deletable": true,
    "editable": true
   },
   "outputs": [
    {
     "name": "stdout",
     "output_type": "stream",
     "text": [
      "     08:00 :  800\n",
      "     12:30 : 1230\n",
      "    2:30pm : 1430\n",
      "   2:30 pm : 1430\n",
      "    2:30PM : 1430\n",
      "   2:30P.M : 1430\n",
      "  2:30P.M. : 1430\n",
      "  2:30 PM. : 1430\n"
     ]
    }
   ],
   "source": [
    "for time in times:\n",
    "    m = TIME.match(time)\n",
    "    n = norm_time(m.group(1), m.group(2), m.group(3))\n",
    "    print('%10s : %4d' % (time, n))"
   ]
  },
  {
   "cell_type": "markdown",
   "metadata": {
    "deletable": true,
    "editable": true
   },
   "source": [
    "### Exercise\n",
    "\n",
    "Write a function that coverts days into a binary form, then converts the binary form into an integer (e.g., `\"MWF\"` &rarr; `\"10101\"` &rarr; `21`): \n",
    "\n",
    "```python\n",
    "def norm_days(days: str) -> int:\n",
    "    # TODO: to be updated\n",
    "    return 0\n",
    "```"
   ]
  },
  {
   "cell_type": "code",
   "execution_count": null,
   "metadata": {
    "collapsed": true,
    "deletable": true,
    "editable": true
   },
   "outputs": [],
   "source": []
  },
  {
   "cell_type": "code",
   "execution_count": null,
   "metadata": {
    "collapsed": true,
    "deletable": true,
    "editable": true
   },
   "outputs": [],
   "source": []
  },
  {
   "cell_type": "code",
   "execution_count": null,
   "metadata": {
    "collapsed": true,
    "deletable": true,
    "editable": true
   },
   "outputs": [],
   "source": []
  },
  {
   "cell_type": "code",
   "execution_count": null,
   "metadata": {
    "collapsed": true,
    "deletable": true,
    "editable": true
   },
   "outputs": [],
   "source": []
  },
  {
   "cell_type": "code",
   "execution_count": null,
   "metadata": {
    "collapsed": true,
    "deletable": true,
    "editable": true
   },
   "outputs": [],
   "source": []
  },
  {
   "cell_type": "code",
   "execution_count": 8,
   "metadata": {
    "collapsed": false,
    "deletable": true,
    "editable": true
   },
   "outputs": [],
   "source": [
    "def norm_days(days: str) -> int:\n",
    "    DAYS = [('M', 0), ('TU', 1), ('W', 2), ('TH', 3), ('F', 4)]\n",
    "    days = days.upper()\n",
    "    b = ['0'] * 5\n",
    "\n",
    "    for d, i in DAYS:\n",
    "        if d in days:\n",
    "            b[i] = '1'\n",
    "            days = days.replace(d, '')\n",
    "    \n",
    "    if 'T' in days:\n",
    "        b[1] = '1'\n",
    "        days = days.replace('T', '')\n",
    "\n",
    "    return int(''.join(b), 2)"
   ]
  },
  {
   "cell_type": "code",
   "execution_count": 9,
   "metadata": {
    "collapsed": false,
    "deletable": true,
    "editable": true
   },
   "outputs": [
    {
     "name": "stdout",
     "output_type": "stream",
     "text": [
      "    MWF 10101 21\n",
      "   TuTh  1010 10\n",
      "MTuWThF 11111 31\n",
      "   TThF  1011 11\n",
      "   MWFf 10101 21\n"
     ]
    }
   ],
   "source": [
    "days = ['MWF', 'TuTh', 'MTuWThF', 'TThF', 'MWFf']\n",
    "\n",
    "for day in days:\n",
    "    n = norm_days(day)\n",
    "    print('%7s %5s %2d' % (day, bin(n)[2:], n))"
   ]
  },
  {
   "cell_type": "markdown",
   "metadata": {
    "deletable": true,
    "editable": true
   },
   "source": [
    "Write a function that takes the exam schedule URL and returns a dictionary where the key is the normalized class meeting time and the value is its exam schedule information."
   ]
  },
  {
   "cell_type": "code",
   "execution_count": 10,
   "metadata": {
    "collapsed": false,
    "deletable": true,
    "editable": true
   },
   "outputs": [],
   "source": [
    "from typing import Dict, Tuple\n",
    "\n",
    "def extract_exam_schedule(url) -> Dict[Tuple[int, str], Tuple[str, str, str]]:\n",
    "    r = requests.get(url)\n",
    "    html = BeautifulSoup(r.text, 'html.parser')\n",
    "    tbody = html.find('tbody')\n",
    "    schedule = {}\n",
    "\n",
    "    for tr in tbody.find_all('tr'):\n",
    "        tds = tr.find_all('td')\n",
    "        class_time = tds[0].string.strip()\n",
    "        m = TIME_DAYS.match(class_time)\n",
    "        if m:\n",
    "            time = norm_time(int(m.group(1)), int(m.group(2)))\n",
    "            days = m.group(3)\n",
    "            key  = (time, days)\n",
    "            exam_day  = tds[1].string.strip()\n",
    "            exam_date = tds[2].string.strip()\n",
    "            exam_time = tds[3].string.strip()\n",
    "            schedule[key] = (exam_day, exam_date, exam_time)\n",
    "\n",
    "    return schedule"
   ]
  },
  {
   "cell_type": "code",
   "execution_count": 11,
   "metadata": {
    "collapsed": false,
    "deletable": true,
    "editable": true
   },
   "outputs": [
    {
     "name": "stdout",
     "output_type": "stream",
     "text": [
      "  (800, 'MWF') : ('Friday', '3-May', '11:30 A.M - 2:00 P.M')\n",
      " (800, 'TThF') : ('Friday', '3-May', '3:00 P.M - 5:30 P.M')\n",
      "   (830, 'MW') : ('Friday', '3-May', '11:30 A.M - 2:00 P.M')\n",
      "  (830, 'TTh') : ('Friday', '3-May', '3:00 P.M - 5:30 P.M')\n",
      "  (900, 'MWF') : ('Friday', '3-May', '11:30 A.M - 2:00 P.M')\n",
      " (900, 'TThF') : ('Friday', '3-May', '3:00 P.M - 5:30 P.M')\n",
      "  (1000, 'MW') : ('Thursday', '2-May', '8:00 A.M - 10:30 A.M')\n",
      " (1000, 'MWF') : ('Thursday', '2-May', '8:00 A.M - 10:30 A.M')\n",
      " (1000, 'TTh') : ('Friday', '3-May', '8:00 A.M - 10:30 A.M')\n",
      "(1000, 'TThF') : ('Friday', '3-May', '8:00 A.M - 10:30 A.M')\n",
      " (1100, 'MWF') : ('Wednesday', '8-May', '8:00 A.M - 10:30 A.M')\n",
      "(1100, 'TThF') : ('Tuesday', '7-May', '8:00 A.M - 10:30 A.M')\n",
      "  (1130, 'MW') : ('Wednesday', '8-May', '8:00 A.M - 10:30 A.M')\n",
      " (1130, 'TTh') : ('Tuesday', '7-May', '8:00 A.M - 10:30 A.M')\n",
      " (1200, 'MWF') : ('Wednesday', '8-May', '3:00 P.M - 5:30 P.M')\n",
      "(1200, 'TThF') : ('Wednesday', '8-May', '3:00 P.M - 5:30 P.M')\n",
      "   (100, 'MW') : ('Tuesday', '7-May', '3:00 P.M - 5:30 P.M')\n",
      "  (100, 'MWF') : ('Tuesday', '7-May', '3:00 P.M - 5:30 P.M')\n",
      "  (100, 'TTh') : ('Monday', '6-May', '8:00 A.M - 10:30 A.M')\n",
      " (100, 'TThF') : ('Monday', '6-May', '8:00 A.M - 10:30 A.M')\n",
      "  (200, 'MWF') : ('Monday', '6-May', '3:00 P.M - 5:30 P.M')\n",
      " (200, 'TThF') : ('Thursday', '2-May', '3:00 P.M - 5:30 P.M')\n",
      "   (230, 'MW') : ('Monday', '6-May', '3:00 P.M - 5:30 P.M')\n",
      "  (230, 'TTh') : ('Thursday', '2-May', '3:00 P.M - 5:30 P.M')\n",
      "  (300, 'MWF') : ('Tuesday', '7-May', '11:30 A.M - 2:00 P.M')\n",
      " (300, 'TThF') : ('Tuesday', '7-May', '11:30 A.M - 2:00 P.M')\n",
      "   (400, 'MW') : ('Wednesday', '8-May', '11:30 A.M - 2:00 P.M')\n",
      "  (400, 'MWF') : ('Wednesday', '8-May', '11:30 A.M - 2:00 P.M')\n",
      "  (400, 'TTh') : ('Monday', '6-May', '11:30 A.M - 2:00 P.M')\n",
      " (400, 'TThF') : ('Monday', '6-May', '11:30 A.M - 2:00 P.M')\n",
      "  (500, 'MWF') : ('Thursday', '2-May', '11:30 A.M - 2:00 P.M')\n",
      " (500, 'TThF') : ('Thursday', '2-May', '6:30 P.M - 9:00 P.M')\n",
      "   (530, 'MW') : ('Thursday', '2-May', '11:30 A.M - 2:00 P.M')\n",
      "  (530, 'TTh') : ('Thursday', '2-May', '6:30 P.M - 9:00 P.M')\n"
     ]
    }
   ],
   "source": [
    "exam_schedule = extract_exam_schedule(url)\n",
    "for k, v in exam_schedule.items():\n",
    "    print('%14s : %s' % (k, v))"
   ]
  },
  {
   "cell_type": "markdown",
   "metadata": {
    "deletable": true,
    "editable": true
   },
   "source": [
    "### Question\n",
    "\n",
    "Which exam schedules are not extracted by the `extract_exam_schedule` function, and why?"
   ]
  }
 ],
 "metadata": {
  "kernelspec": {
   "display_name": "Python 3",
   "language": "python",
   "name": "python3"
  },
  "language_info": {
   "codemirror_mode": {
    "name": "ipython",
    "version": 3
   },
   "file_extension": ".py",
   "mimetype": "text/x-python",
   "name": "python",
   "nbconvert_exporter": "python",
   "pygments_lexer": "ipython3",
   "version": "3.6.0"
  }
 },
 "nbformat": 4,
 "nbformat_minor": 2
}
