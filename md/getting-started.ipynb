{
 "cells": [
  {
   "cell_type": "markdown",
   "metadata": {},
   "source": [
    "## Python\n",
    "\n",
    "* Install [Python 3.4.x](https://www.python.org/downloads/) or above. Note that Python 2 will not be compatible to this course.\n",
    "\n",
    "## PyCharm\n",
    "\n",
    "* Install [PyCharm](https://www.jetbrains.com/pycharm/download/). You can get the professional version for free by applying for the [academic license](https://www.jetbrains.com/student/).\n",
    "* Lauch PyCharm and create a new project:\n",
    "   * Select `Pure Python` on the left pane.\n",
    "   * Choose (or make) a directory called `data-science`.\n",
    "   * Choose an interpreter that is `3.4.x` or above.\n",
    "   * Click the gear button on the righthand side and select `Create VirtualEnv`. Give `env` as name and choose the `data-science` directory you just created as location.\n",
    "   * Click the `Create` button at the bottom.\n",
    "* Install `numpy`:\n",
    "  * Open the `Preferences` pane from the menu and search for `Project Interpreter`.\n",
    "  * Click the `+` sign at the bottom of the `Project Interpreter` pane.\n",
    "  * Search for `numpy` and click the `Install Package` button.\n",
    "* Create the python package called `src`.\n",
    "* Create the python file called [`test_numpy.py`](../blob/master/src/test_numpy.py) and paste the following code:\n",
    "\n",
    "```python\n",
    "import numpy as np\n",
    "\n",
    "a = np.array([[0, 1, 2], [3, 4, 5]])\n",
    "b = np.array([[4, 5, 6], [7, 8, 9]])\n",
    "c = a + b\n",
    "\n",
    "print(c)\n",
    "```\n",
    "\n",
    "* Run the program by choosing `[Run -> Run]`.\n",
    "* If you see the following output on the console, your program runs successfully.\n",
    "\n",
    "```\n",
    "[[ 4  6  8]\n",
    " [10 12 14]]\n",
    "```\n",
    "\n",
    "## Quiz\n",
    "\n",
    "* Submit `test_numpy.py`: https://canvas.emory.edu/courses/41979/assignments/101808"
   ]
  },
  {
   "cell_type": "code",
   "execution_count": null,
   "metadata": {
    "collapsed": true
   },
   "outputs": [],
   "source": []
  }
 ],
 "metadata": {
  "kernelspec": {
   "display_name": "Python 3",
   "language": "python",
   "name": "python3"
  },
  "language_info": {
   "codemirror_mode": {
    "name": "ipython",
    "version": 3
   },
   "file_extension": ".py",
   "mimetype": "text/x-python",
   "name": "python",
   "nbconvert_exporter": "python",
   "pygments_lexer": "ipython3",
   "version": "3.6.0"
  }
 },
 "nbformat": 4,
 "nbformat_minor": 2
}
