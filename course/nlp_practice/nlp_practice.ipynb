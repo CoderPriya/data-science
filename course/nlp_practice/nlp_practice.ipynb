{
 "cells": [
  {
   "cell_type": "markdown",
   "metadata": {
    "deletable": true,
    "editable": true
   },
   "source": [
    "# Document classification\n",
    "\n",
    "Your task is to classify documents into the following 7 categories:\n",
    "\n",
    "* `AA`: Amazon Appliances\n",
    "* `AB`: Amazon Books\n",
    "* `BC`: Broadcasting Conversations\n",
    "* `BN`: Broadcasting News\n",
    "* `CT`: Conversation Texts\n",
    "* `NW`: Newswires\n",
    "* `WB`: Web Blogs\n",
    "\n",
    "Three files are provided:\n",
    "\n",
    "* [`docs.trn.tsv`](res/docs.trn.tsv): training set\n",
    "* [`docs.dev.tsv`](res/docs.dev.tsv): development set\n",
    "* [`docs.tst.tsv`](res/docs.tst.tsv): test set"
   ]
  },
  {
   "cell_type": "markdown",
   "metadata": {
    "deletable": true,
    "editable": true
   },
   "source": [
    "## 1. Reading"
   ]
  },
  {
   "cell_type": "code",
   "execution_count": null,
   "metadata": {
    "collapsed": true
   },
   "outputs": [],
   "source": []
  },
  {
   "cell_type": "code",
   "execution_count": null,
   "metadata": {
    "collapsed": true
   },
   "outputs": [],
   "source": []
  },
  {
   "cell_type": "code",
   "execution_count": null,
   "metadata": {
    "collapsed": true
   },
   "outputs": [],
   "source": []
  },
  {
   "cell_type": "code",
   "execution_count": null,
   "metadata": {
    "collapsed": true
   },
   "outputs": [],
   "source": []
  },
  {
   "cell_type": "code",
   "execution_count": 21,
   "metadata": {
    "collapsed": true,
    "deletable": true,
    "editable": true
   },
   "outputs": [],
   "source": [
    "from typing import List, Tuple\n",
    "\n",
    "def read_docs(filename: str) -> List[Tuple[str, List[str]]]:\n",
    "    fin = open(filename)\n",
    "    docs = []\n",
    "    \n",
    "    for line in fin:\n",
    "        l = line.split('\\t')\n",
    "        label = l[0]\n",
    "        doc = l[1].split()\n",
    "        docs.append((label, doc))\n",
    "    \n",
    "    return docs"
   ]
  },
  {
   "cell_type": "code",
   "execution_count": 22,
   "metadata": {
    "collapsed": true,
    "deletable": true,
    "editable": true
   },
   "outputs": [],
   "source": [
    "trn_docs = read_docs('res/docs.trn.tsv')\n",
    "dev_docs = read_docs('res/docs.dev.tsv')\n",
    "tst_docs = read_docs('res/docs.tst.tsv')"
   ]
  },
  {
   "cell_type": "code",
   "execution_count": 23,
   "metadata": {
    "collapsed": false,
    "deletable": true,
    "editable": true
   },
   "outputs": [
    {
     "name": "stdout",
     "output_type": "stream",
     "text": [
      "TRN: 2355, DEV: 297, TST: 297\n"
     ]
    }
   ],
   "source": [
    "print('TRN: %d, DEV: %d, TST: %d' % (len(trn_docs), len(dev_docs), len(tst_docs)))"
   ]
  },
  {
   "cell_type": "markdown",
   "metadata": {
    "deletable": true,
    "editable": true
   },
   "source": [
    "## 2. Indexing"
   ]
  },
  {
   "cell_type": "code",
   "execution_count": null,
   "metadata": {
    "collapsed": true
   },
   "outputs": [],
   "source": []
  },
  {
   "cell_type": "code",
   "execution_count": null,
   "metadata": {
    "collapsed": true
   },
   "outputs": [],
   "source": []
  },
  {
   "cell_type": "code",
   "execution_count": null,
   "metadata": {
    "collapsed": true
   },
   "outputs": [],
   "source": []
  },
  {
   "cell_type": "code",
   "execution_count": null,
   "metadata": {
    "collapsed": true
   },
   "outputs": [],
   "source": []
  },
  {
   "cell_type": "code",
   "execution_count": 24,
   "metadata": {
    "collapsed": false,
    "deletable": true,
    "editable": true
   },
   "outputs": [],
   "source": [
    "from typing import Dict\n",
    "\n",
    "def index_maps(docs: List[Tuple[str, List[str]]]) -> Tuple[Dict[str, int], Dict[str, int]]:\n",
    "    map_x = {}\n",
    "    map_y = {}\n",
    "    \n",
    "    for label, doc in docs:\n",
    "        map_y.setdefault(label, len(map_y))\n",
    "        \n",
    "        for token in doc:\n",
    "            map_x.setdefault(token, len(map_x))\n",
    "    \n",
    "    return map_y, map_x"
   ]
  },
  {
   "cell_type": "code",
   "execution_count": 25,
   "metadata": {
    "collapsed": true,
    "deletable": true,
    "editable": true
   },
   "outputs": [],
   "source": [
    "map_y, map_x = index_maps(trn_docs)"
   ]
  },
  {
   "cell_type": "code",
   "execution_count": 26,
   "metadata": {
    "collapsed": false,
    "deletable": true,
    "editable": true
   },
   "outputs": [
    {
     "name": "stdout",
     "output_type": "stream",
     "text": [
      "labels: 7, token types: 38741\n"
     ]
    }
   ],
   "source": [
    "print('labels: %d, token types: %d' % (len(map_y), len(map_x)))"
   ]
  },
  {
   "cell_type": "markdown",
   "metadata": {
    "deletable": true,
    "editable": true
   },
   "source": [
    "## 3. Vectorizing"
   ]
  },
  {
   "cell_type": "code",
   "execution_count": null,
   "metadata": {
    "collapsed": true
   },
   "outputs": [],
   "source": []
  },
  {
   "cell_type": "code",
   "execution_count": null,
   "metadata": {
    "collapsed": true
   },
   "outputs": [],
   "source": []
  },
  {
   "cell_type": "code",
   "execution_count": null,
   "metadata": {
    "collapsed": true
   },
   "outputs": [],
   "source": []
  },
  {
   "cell_type": "code",
   "execution_count": null,
   "metadata": {
    "collapsed": true
   },
   "outputs": [],
   "source": []
  },
  {
   "cell_type": "code",
   "execution_count": 27,
   "metadata": {
    "collapsed": false,
    "deletable": true,
    "editable": true
   },
   "outputs": [],
   "source": [
    "def vec_yxs(docs: List[Tuple[str, List[str]]], map_y: Dict[str, int], map_x: Dict[str, int]) -> List[Tuple[int, List[Tuple[int, int]]]]:\n",
    "    yxs = []\n",
    "    \n",
    "    for label, doc in docs:\n",
    "        y = map_y.get(label, -1)\n",
    "        x = [(map_x[token], 1) for token in doc if token in map_x]\n",
    "        x.sort()\n",
    "        yxs.append((y, x))\n",
    "\n",
    "    return yxs"
   ]
  },
  {
   "cell_type": "code",
   "execution_count": 28,
   "metadata": {
    "collapsed": false,
    "deletable": true,
    "editable": true
   },
   "outputs": [],
   "source": [
    "trn_yxs = vec_yxs(trn_docs, map_y, map_x)\n",
    "dev_yxs = vec_yxs(dev_docs, map_y, map_x)\n",
    "tst_yxs = vec_yxs(tst_docs, map_y, map_x)"
   ]
  },
  {
   "cell_type": "markdown",
   "metadata": {
    "deletable": true,
    "editable": true
   },
   "source": [
    "## 4. Learning"
   ]
  },
  {
   "cell_type": "code",
   "execution_count": null,
   "metadata": {
    "collapsed": true
   },
   "outputs": [],
   "source": []
  },
  {
   "cell_type": "code",
   "execution_count": null,
   "metadata": {
    "collapsed": true
   },
   "outputs": [],
   "source": []
  },
  {
   "cell_type": "code",
   "execution_count": null,
   "metadata": {
    "collapsed": true
   },
   "outputs": [],
   "source": []
  },
  {
   "cell_type": "code",
   "execution_count": null,
   "metadata": {
    "collapsed": true
   },
   "outputs": [],
   "source": []
  },
  {
   "cell_type": "code",
   "execution_count": 29,
   "metadata": {
    "collapsed": false,
    "deletable": true,
    "editable": true
   },
   "outputs": [],
   "source": [
    "import numpy as np\n",
    "\n",
    "def score(w: np.array, x: List[Tuple[int, int]]):\n",
    "    return sum([w[i] * v for i, v in x])\n",
    "\n",
    "def update(w: np.array, x: List[Tuple[int, int]], gradient: float):\n",
    "    for i, v in x:\n",
    "        w[i] += gradient * v"
   ]
  },
  {
   "cell_type": "code",
   "execution_count": 30,
   "metadata": {
    "collapsed": true,
    "deletable": true,
    "editable": true
   },
   "outputs": [],
   "source": [
    "def train(yxs: List[Tuple[int, List[Tuple[int, int]]]], ws: List[np.array], learning_rate):\n",
    "    for y, x in yxs:\n",
    "        yhat = np.argmax([score(w, x) for w in ws])\n",
    "        if y != yhat:\n",
    "            for i, w in enumerate(ws):\n",
    "                sign = 1 if i == y else -1\n",
    "                update(w, x, sign * learning_rate)"
   ]
  },
  {
   "cell_type": "code",
   "execution_count": null,
   "metadata": {
    "collapsed": true
   },
   "outputs": [],
   "source": []
  },
  {
   "cell_type": "code",
   "execution_count": null,
   "metadata": {
    "collapsed": true
   },
   "outputs": [],
   "source": []
  },
  {
   "cell_type": "code",
   "execution_count": null,
   "metadata": {
    "collapsed": true
   },
   "outputs": [],
   "source": []
  },
  {
   "cell_type": "code",
   "execution_count": null,
   "metadata": {
    "collapsed": true
   },
   "outputs": [],
   "source": []
  },
  {
   "cell_type": "code",
   "execution_count": 31,
   "metadata": {
    "collapsed": true,
    "deletable": true,
    "editable": true
   },
   "outputs": [],
   "source": [
    "def evaluate(yxs: List[Tuple[int, List[Tuple[int, int]]]], ws: List[np.array]):\n",
    "    correct = 0\n",
    "    \n",
    "    for y, x in yxs:\n",
    "        yhat = np.argmax([score(w, x) for w in ws])\n",
    "        if y == yhat:\n",
    "            correct += 1\n",
    "\n",
    "    return correct"
   ]
  },
  {
   "cell_type": "code",
   "execution_count": 32,
   "metadata": {
    "collapsed": false,
    "deletable": true,
    "editable": true
   },
   "outputs": [
    {
     "name": "stdout",
     "output_type": "stream",
     "text": [
      "   0: 13.13 (39/297)\n",
      "   1: 18.52 (55/297)\n",
      "   2: 22.22 (66/297)\n",
      "   3: 25.25 (75/297)\n",
      "   4: 25.93 (77/297)\n",
      "   5: 26.26 (78/297)\n",
      "   6: 28.62 (85/297)\n",
      "   7: 28.62 (85/297)\n",
      "   8: 29.97 (89/297)\n",
      "   9: 33.67 (100/297)\n",
      "  10: 32.66 (97/297)\n",
      "  11: 35.35 (105/297)\n",
      "  12: 40.40 (120/297)\n",
      "  13: 40.74 (121/297)\n",
      "  14: 44.78 (133/297)\n",
      "  15: 47.14 (140/297)\n",
      "  16: 47.81 (142/297)\n",
      "  17: 47.81 (142/297)\n",
      "  18: 48.82 (145/297)\n",
      "  19: 49.16 (146/297)\n",
      "  20: 52.19 (155/297)\n",
      "  21: 53.20 (158/297)\n",
      "  22: 54.21 (161/297)\n",
      "  23: 56.57 (168/297)\n",
      "  24: 56.57 (168/297)\n",
      "  25: 56.57 (168/297)\n",
      "  26: 58.25 (173/297)\n",
      "  27: 58.25 (173/297)\n",
      "  28: 58.59 (174/297)\n",
      "  29: 58.92 (175/297)\n",
      "  30: 58.92 (175/297)\n",
      "  31: 59.60 (177/297)\n",
      "  32: 59.60 (177/297)\n",
      "  33: 60.61 (180/297)\n",
      "  34: 60.94 (181/297)\n",
      "  35: 59.60 (177/297)\n",
      "  36: 62.63 (186/297)\n",
      "  37: 60.61 (180/297)\n",
      "  38: 62.29 (185/297)\n",
      "  39: 62.96 (187/297)\n",
      "  40: 61.28 (182/297)\n",
      "  41: 62.29 (185/297)\n",
      "  42: 61.62 (183/297)\n",
      "  43: 61.95 (184/297)\n",
      "  44: 62.63 (186/297)\n",
      "  45: 62.96 (187/297)\n",
      "  46: 61.95 (184/297)\n",
      "  47: 63.30 (188/297)\n",
      "  48: 62.29 (185/297)\n",
      "  49: 63.64 (189/297)\n",
      "==========\n",
      "Best: 63.64 (189/297)\n"
     ]
    }
   ],
   "source": [
    "ws = [np.zeros(len(map_x)) for _ in range(len(map_y))]\n",
    "learning_rate = 0.01\n",
    "best_correct = 0\n",
    "best_ws = None\n",
    "epochs = 50\n",
    "\n",
    "for epoch in range(epochs):\n",
    "    train(trn_yxs, ws, learning_rate)\n",
    "    correct = evaluate(dev_yxs, ws)\n",
    "    if correct > best_correct:\n",
    "        best_correct = correct\n",
    "        best_ws = [np.array(w) for w in ws]\n",
    "    \n",
    "    print('%4d: %5.2f (%d/%d)' % (epoch, 100.0*correct/len(dev_yxs), correct, len(dev_yxs)))\n",
    "\n",
    "print('==========')\n",
    "print('Best: %5.2f (%d/%d)' % (100.0*best_correct/len(dev_yxs), best_correct, len(dev_yxs)))"
   ]
  },
  {
   "cell_type": "code",
   "execution_count": 33,
   "metadata": {
    "collapsed": false,
    "deletable": true,
    "editable": true
   },
   "outputs": [
    {
     "name": "stdout",
     "output_type": "stream",
     "text": [
      "DEV: 63.64 (189/297)\n"
     ]
    }
   ],
   "source": [
    "correct = evaluate(dev_yxs, best_ws)\n",
    "print('DEV: %5.2f (%d/%d)' % (100.0*correct/len(dev_yxs), correct, len(dev_yxs)))"
   ]
  },
  {
   "cell_type": "code",
   "execution_count": 34,
   "metadata": {
    "collapsed": false,
    "deletable": true,
    "editable": true
   },
   "outputs": [
    {
     "name": "stdout",
     "output_type": "stream",
     "text": [
      "TST: 64.98 (193/297)\n"
     ]
    }
   ],
   "source": [
    "correct = evaluate(tst_yxs, best_ws)\n",
    "print('TST: %5.2f (%d/%d)' % (100.0*correct/len(tst_yxs), correct, len(tst_yxs)))"
   ]
  },
  {
   "cell_type": "code",
   "execution_count": null,
   "metadata": {
    "collapsed": true,
    "deletable": true,
    "editable": true
   },
   "outputs": [],
   "source": []
  }
 ],
 "metadata": {
  "kernelspec": {
   "display_name": "Python 3",
   "language": "python",
   "name": "python3"
  },
  "language_info": {
   "codemirror_mode": {
    "name": "ipython",
    "version": 3
   },
   "file_extension": ".py",
   "mimetype": "text/x-python",
   "name": "python",
   "nbconvert_exporter": "python",
   "pygments_lexer": "ipython3",
   "version": "3.6.0"
  }
 },
 "nbformat": 4,
 "nbformat_minor": 2
}
